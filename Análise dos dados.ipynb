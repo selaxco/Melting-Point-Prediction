{
 "cells": [
  {
   "cell_type": "markdown",
   "id": "da621103-1b0d-4e89-8597-9f057449aceb",
   "metadata": {},
   "source": [
    "# Imports"
   ]
  },
  {
   "cell_type": "code",
   "execution_count": 1,
   "id": "df93018c-0b59-42bd-a9fd-9c9029d7af58",
   "metadata": {},
   "outputs": [],
   "source": [
    "from funcoes import get_filtered_df\n",
    "import numpy as np"
   ]
  },
  {
   "cell_type": "markdown",
   "id": "d530e64f-1c86-4af1-8069-c97f8ebe8c94",
   "metadata": {},
   "source": [
    "# Pegando os DataFrames"
   ]
  },
  {
   "cell_type": "code",
   "execution_count": 2,
   "id": "9ab1616f-c25e-488b-9a2b-bd3ecc7c6220",
   "metadata": {},
   "outputs": [],
   "source": [
    "df_all = get_filtered_df('Dados/Human (Jurkat lymphoma T cells).xlsx', float('inf'))\n",
    "df_filtered = get_filtered_df('Dados/Human (Jurkat lymphoma T cells).xlsx', 300)"
   ]
  },
  {
   "cell_type": "code",
   "execution_count": 3,
   "id": "d6d51fd3-0204-4b42-9634-9d68415fbc72",
   "metadata": {},
   "outputs": [
    {
     "data": {
      "text/html": [
       "<div>\n",
       "<style scoped>\n",
       "    .dataframe tbody tr th:only-of-type {\n",
       "        vertical-align: middle;\n",
       "    }\n",
       "\n",
       "    .dataframe tbody tr th {\n",
       "        vertical-align: top;\n",
       "    }\n",
       "\n",
       "    .dataframe thead th {\n",
       "        text-align: right;\n",
       "    }\n",
       "</style>\n",
       "<table border=\"1\" class=\"dataframe\">\n",
       "  <thead>\n",
       "    <tr style=\"text-align: right;\">\n",
       "      <th></th>\n",
       "      <th>index</th>\n",
       "      <th>PROTEIN</th>\n",
       "      <th>LENGTH</th>\n",
       "      <th>UNIPROT_ID</th>\n",
       "      <th>Tm_(C)</th>\n",
       "      <th>ADDITIVES</th>\n",
       "    </tr>\n",
       "  </thead>\n",
       "  <tbody>\n",
       "    <tr>\n",
       "      <th>0</th>\n",
       "      <td>1</td>\n",
       "      <td>Double-stranded RNA-binding protein Staufen ho...</td>\n",
       "      <td>577.0</td>\n",
       "      <td>O95793</td>\n",
       "      <td>56.61</td>\n",
       "      <td>NaN</td>\n",
       "    </tr>\n",
       "    <tr>\n",
       "      <th>1</th>\n",
       "      <td>2</td>\n",
       "      <td>GTPase NRas</td>\n",
       "      <td>189.0</td>\n",
       "      <td>P01111</td>\n",
       "      <td>62.18</td>\n",
       "      <td>NaN</td>\n",
       "    </tr>\n",
       "    <tr>\n",
       "      <th>2</th>\n",
       "      <td>3</td>\n",
       "      <td>Cathepsin L2</td>\n",
       "      <td>334.0</td>\n",
       "      <td>O60911</td>\n",
       "      <td>57.91</td>\n",
       "      <td>NaN</td>\n",
       "    </tr>\n",
       "    <tr>\n",
       "      <th>3</th>\n",
       "      <td>4</td>\n",
       "      <td>Serine/arginine-rich splicing factor 4</td>\n",
       "      <td>494.0</td>\n",
       "      <td>Q08170</td>\n",
       "      <td>47.95</td>\n",
       "      <td>NaN</td>\n",
       "    </tr>\n",
       "    <tr>\n",
       "      <th>4</th>\n",
       "      <td>5</td>\n",
       "      <td>Serine/threonine-protein phosphatase 2A 56 kDa...</td>\n",
       "      <td>602.0</td>\n",
       "      <td>Q14738</td>\n",
       "      <td>46.17</td>\n",
       "      <td>NaN</td>\n",
       "    </tr>\n",
       "    <tr>\n",
       "      <th>...</th>\n",
       "      <td>...</td>\n",
       "      <td>...</td>\n",
       "      <td>...</td>\n",
       "      <td>...</td>\n",
       "      <td>...</td>\n",
       "      <td>...</td>\n",
       "    </tr>\n",
       "    <tr>\n",
       "      <th>21408</th>\n",
       "      <td>28324</td>\n",
       "      <td>Cleavage and polyadenylation specificity facto...</td>\n",
       "      <td>471.0</td>\n",
       "      <td>Q8N684</td>\n",
       "      <td>50.51</td>\n",
       "      <td>0.67% NP40 (octylphenoxypoly(ethyleneoxy)ethanol)</td>\n",
       "    </tr>\n",
       "    <tr>\n",
       "      <th>21409</th>\n",
       "      <td>28337</td>\n",
       "      <td>AP2-associated protein kinase 1</td>\n",
       "      <td>961.0</td>\n",
       "      <td>Q2M2I8</td>\n",
       "      <td>50.25</td>\n",
       "      <td>0.67% NP40 (octylphenoxypoly(ethyleneoxy)ethanol)</td>\n",
       "    </tr>\n",
       "    <tr>\n",
       "      <th>21410</th>\n",
       "      <td>28352</td>\n",
       "      <td>Rab-like protein 2A</td>\n",
       "      <td>228.0</td>\n",
       "      <td>Q9UBK7</td>\n",
       "      <td>48.03</td>\n",
       "      <td>0.67% NP40 (octylphenoxypoly(ethyleneoxy)ethanol)</td>\n",
       "    </tr>\n",
       "    <tr>\n",
       "      <th>21411</th>\n",
       "      <td>28356</td>\n",
       "      <td>PDZ and LIM domain protein 5 (Fragment)</td>\n",
       "      <td>85.0</td>\n",
       "      <td>H0Y929</td>\n",
       "      <td>49.89</td>\n",
       "      <td>0.67% NP40 (octylphenoxypoly(ethyleneoxy)ethanol)</td>\n",
       "    </tr>\n",
       "    <tr>\n",
       "      <th>21412</th>\n",
       "      <td>28361</td>\n",
       "      <td>Hypoxia-inducible factor 1-alpha inhibitor</td>\n",
       "      <td>349.0</td>\n",
       "      <td>Q9NWT6</td>\n",
       "      <td>50.19</td>\n",
       "      <td>0.67% NP40 (octylphenoxypoly(ethyleneoxy)ethanol)</td>\n",
       "    </tr>\n",
       "  </tbody>\n",
       "</table>\n",
       "<p>21413 rows × 6 columns</p>\n",
       "</div>"
      ],
      "text/plain": [
       "       index                                            PROTEIN  LENGTH  \\\n",
       "0          1  Double-stranded RNA-binding protein Staufen ho...   577.0   \n",
       "1          2                                       GTPase NRas    189.0   \n",
       "2          3                                      Cathepsin L2    334.0   \n",
       "3          4            Serine/arginine-rich splicing factor 4    494.0   \n",
       "4          5  Serine/threonine-protein phosphatase 2A 56 kDa...   602.0   \n",
       "...      ...                                                ...     ...   \n",
       "21408  28324  Cleavage and polyadenylation specificity facto...   471.0   \n",
       "21409  28337                   AP2-associated protein kinase 1    961.0   \n",
       "21410  28352                                Rab-like protein 2A   228.0   \n",
       "21411  28356            PDZ and LIM domain protein 5 (Fragment)    85.0   \n",
       "21412  28361        Hypoxia-inducible factor 1-alpha inhibitor    349.0   \n",
       "\n",
       "      UNIPROT_ID  Tm_(C)                                          ADDITIVES  \n",
       "0         O95793   56.61                                                NaN  \n",
       "1         P01111   62.18                                                NaN  \n",
       "2         O60911   57.91                                                NaN  \n",
       "3         Q08170   47.95                                                NaN  \n",
       "4         Q14738   46.17                                                NaN  \n",
       "...          ...     ...                                                ...  \n",
       "21408     Q8N684   50.51  0.67% NP40 (octylphenoxypoly(ethyleneoxy)ethanol)  \n",
       "21409     Q2M2I8   50.25  0.67% NP40 (octylphenoxypoly(ethyleneoxy)ethanol)  \n",
       "21410     Q9UBK7   48.03  0.67% NP40 (octylphenoxypoly(ethyleneoxy)ethanol)  \n",
       "21411     H0Y929   49.89  0.67% NP40 (octylphenoxypoly(ethyleneoxy)ethanol)  \n",
       "21412     Q9NWT6   50.19  0.67% NP40 (octylphenoxypoly(ethyleneoxy)ethanol)  \n",
       "\n",
       "[21413 rows x 6 columns]"
      ]
     },
     "execution_count": 3,
     "metadata": {},
     "output_type": "execute_result"
    }
   ],
   "source": [
    "df_all"
   ]
  },
  {
   "cell_type": "code",
   "execution_count": 4,
   "id": "3fe61e07-b96b-41ba-80d3-dd4aa620a975",
   "metadata": {},
   "outputs": [
    {
     "data": {
      "text/html": [
       "<div>\n",
       "<style scoped>\n",
       "    .dataframe tbody tr th:only-of-type {\n",
       "        vertical-align: middle;\n",
       "    }\n",
       "\n",
       "    .dataframe tbody tr th {\n",
       "        vertical-align: top;\n",
       "    }\n",
       "\n",
       "    .dataframe thead th {\n",
       "        text-align: right;\n",
       "    }\n",
       "</style>\n",
       "<table border=\"1\" class=\"dataframe\">\n",
       "  <thead>\n",
       "    <tr style=\"text-align: right;\">\n",
       "      <th></th>\n",
       "      <th>index</th>\n",
       "      <th>PROTEIN</th>\n",
       "      <th>LENGTH</th>\n",
       "      <th>UNIPROT_ID</th>\n",
       "      <th>Tm_(C)</th>\n",
       "      <th>ADDITIVES</th>\n",
       "    </tr>\n",
       "  </thead>\n",
       "  <tbody>\n",
       "    <tr>\n",
       "      <th>0</th>\n",
       "      <td>2</td>\n",
       "      <td>GTPase NRas</td>\n",
       "      <td>189.0</td>\n",
       "      <td>P01111</td>\n",
       "      <td>62.18</td>\n",
       "      <td>NaN</td>\n",
       "    </tr>\n",
       "    <tr>\n",
       "      <th>1</th>\n",
       "      <td>6</td>\n",
       "      <td>Rho-related GTP-binding protein RhoB</td>\n",
       "      <td>196.0</td>\n",
       "      <td>P62745</td>\n",
       "      <td>51.06</td>\n",
       "      <td>NaN</td>\n",
       "    </tr>\n",
       "    <tr>\n",
       "      <th>2</th>\n",
       "      <td>7</td>\n",
       "      <td>Prefoldin subunit 1</td>\n",
       "      <td>122.0</td>\n",
       "      <td>O60925</td>\n",
       "      <td>56.02</td>\n",
       "      <td>NaN</td>\n",
       "    </tr>\n",
       "    <tr>\n",
       "      <th>3</th>\n",
       "      <td>11</td>\n",
       "      <td>Ribonuclease H1</td>\n",
       "      <td>286.0</td>\n",
       "      <td>O60930</td>\n",
       "      <td>43.11</td>\n",
       "      <td>NaN</td>\n",
       "    </tr>\n",
       "    <tr>\n",
       "      <th>4</th>\n",
       "      <td>17</td>\n",
       "      <td>Short coiled-coil protein</td>\n",
       "      <td>159.0</td>\n",
       "      <td>Q9UIL1</td>\n",
       "      <td>53.87</td>\n",
       "      <td>NaN</td>\n",
       "    </tr>\n",
       "    <tr>\n",
       "      <th>...</th>\n",
       "      <td>...</td>\n",
       "      <td>...</td>\n",
       "      <td>...</td>\n",
       "      <td>...</td>\n",
       "      <td>...</td>\n",
       "      <td>...</td>\n",
       "    </tr>\n",
       "    <tr>\n",
       "      <th>5951</th>\n",
       "      <td>28186</td>\n",
       "      <td>Gamma-glutamylaminecyclotransferase</td>\n",
       "      <td>153.0</td>\n",
       "      <td>Q9BVM4</td>\n",
       "      <td>51.63</td>\n",
       "      <td>0.67% NP40 (octylphenoxypoly(ethyleneoxy)ethanol)</td>\n",
       "    </tr>\n",
       "    <tr>\n",
       "      <th>5952</th>\n",
       "      <td>28220</td>\n",
       "      <td>Prostamide/prostaglandin F synthase</td>\n",
       "      <td>198.0</td>\n",
       "      <td>Q8TBF2</td>\n",
       "      <td>54.11</td>\n",
       "      <td>0.67% NP40 (octylphenoxypoly(ethyleneoxy)ethanol)</td>\n",
       "    </tr>\n",
       "    <tr>\n",
       "      <th>5953</th>\n",
       "      <td>28276</td>\n",
       "      <td>NEDD8-conjugating enzyme UBE2F</td>\n",
       "      <td>185.0</td>\n",
       "      <td>Q969M7</td>\n",
       "      <td>53.66</td>\n",
       "      <td>0.67% NP40 (octylphenoxypoly(ethyleneoxy)ethanol)</td>\n",
       "    </tr>\n",
       "    <tr>\n",
       "      <th>5954</th>\n",
       "      <td>28352</td>\n",
       "      <td>Rab-like protein 2A</td>\n",
       "      <td>228.0</td>\n",
       "      <td>Q9UBK7</td>\n",
       "      <td>48.03</td>\n",
       "      <td>0.67% NP40 (octylphenoxypoly(ethyleneoxy)ethanol)</td>\n",
       "    </tr>\n",
       "    <tr>\n",
       "      <th>5955</th>\n",
       "      <td>28356</td>\n",
       "      <td>PDZ and LIM domain protein 5 (Fragment)</td>\n",
       "      <td>85.0</td>\n",
       "      <td>H0Y929</td>\n",
       "      <td>49.89</td>\n",
       "      <td>0.67% NP40 (octylphenoxypoly(ethyleneoxy)ethanol)</td>\n",
       "    </tr>\n",
       "  </tbody>\n",
       "</table>\n",
       "<p>5956 rows × 6 columns</p>\n",
       "</div>"
      ],
      "text/plain": [
       "      index                                  PROTEIN  LENGTH UNIPROT_ID  \\\n",
       "0         2                             GTPase NRas    189.0     P01111   \n",
       "1         6    Rho-related GTP-binding protein RhoB    196.0     P62745   \n",
       "2         7                      Prefoldin subunit 1   122.0     O60925   \n",
       "3        11                         Ribonuclease H1    286.0     O60930   \n",
       "4        17                Short coiled-coil protein   159.0     Q9UIL1   \n",
       "...     ...                                      ...     ...        ...   \n",
       "5951  28186     Gamma-glutamylaminecyclotransferase    153.0     Q9BVM4   \n",
       "5952  28220     Prostamide/prostaglandin F synthase    198.0     Q8TBF2   \n",
       "5953  28276          NEDD8-conjugating enzyme UBE2F    185.0     Q969M7   \n",
       "5954  28352                      Rab-like protein 2A   228.0     Q9UBK7   \n",
       "5955  28356  PDZ and LIM domain protein 5 (Fragment)    85.0     H0Y929   \n",
       "\n",
       "      Tm_(C)                                          ADDITIVES  \n",
       "0      62.18                                                NaN  \n",
       "1      51.06                                                NaN  \n",
       "2      56.02                                                NaN  \n",
       "3      43.11                                                NaN  \n",
       "4      53.87                                                NaN  \n",
       "...      ...                                                ...  \n",
       "5951   51.63  0.67% NP40 (octylphenoxypoly(ethyleneoxy)ethanol)  \n",
       "5952   54.11  0.67% NP40 (octylphenoxypoly(ethyleneoxy)ethanol)  \n",
       "5953   53.66  0.67% NP40 (octylphenoxypoly(ethyleneoxy)ethanol)  \n",
       "5954   48.03  0.67% NP40 (octylphenoxypoly(ethyleneoxy)ethanol)  \n",
       "5955   49.89  0.67% NP40 (octylphenoxypoly(ethyleneoxy)ethanol)  \n",
       "\n",
       "[5956 rows x 6 columns]"
      ]
     },
     "execution_count": 4,
     "metadata": {},
     "output_type": "execute_result"
    }
   ],
   "source": [
    "df_filtered"
   ]
  },
  {
   "cell_type": "markdown",
   "id": "62c28164-078e-46f4-8133-58f63d477347",
   "metadata": {},
   "source": [
    "# Dados do Dataframe não filtrado"
   ]
  },
  {
   "cell_type": "code",
   "execution_count": 5,
   "id": "32a8b20e-a6b4-43e2-b878-c9bdd395063c",
   "metadata": {},
   "outputs": [
    {
     "name": "stdout",
     "output_type": "stream",
     "text": [
      "Coluna: PROTEIN\n",
      "count                                      21413\n",
      "unique                                      6482\n",
      "top       Ubiquitinyl hydrolase 1 (EC 3.4.19.12)\n",
      "freq                                          67\n",
      "Name: PROTEIN, dtype: object\n",
      "\n",
      "Coluna: LENGTH\n",
      "count    21413.000000\n",
      "mean       586.625321\n",
      "std        681.404431\n",
      "min          0.000000\n",
      "25%        281.000000\n",
      "50%        453.000000\n",
      "75%        726.000000\n",
      "max      34350.000000\n",
      "Name: LENGTH, dtype: float64\n",
      "\n",
      "Coluna: UNIPROT_ID\n",
      "count      21413\n",
      "unique      6545\n",
      "top       Q86UW4\n",
      "freq          28\n",
      "Name: UNIPROT_ID, dtype: object\n",
      "\n",
      "Coluna: Tm_(C)\n",
      "count    21413.000000\n",
      "mean        51.250093\n",
      "std          5.219365\n",
      "min         39.760000\n",
      "25%         47.340000\n",
      "50%         50.410000\n",
      "75%         54.210000\n",
      "max         67.000000\n",
      "Name: Tm_(C), dtype: float64\n",
      "\n",
      "Coluna: ADDITIVES\n",
      "count                                                 16715\n",
      "unique                                                    3\n",
      "top       30 μM Pervanadate, 0.67% NP40 (octylphenoxypol...\n",
      "freq                                                   5875\n",
      "Name: ADDITIVES, dtype: object\n",
      "\n"
     ]
    }
   ],
   "source": [
    "for col in df_all:\n",
    "    if col == 'index':\n",
    "        continue\n",
    "    print(f'Coluna: {col}')\n",
    "    print(df_all[col].describe())\n",
    "    print()"
   ]
  },
  {
   "cell_type": "code",
   "execution_count": 6,
   "id": "65710f33-9624-4dbe-adc0-e2c89818cdb5",
   "metadata": {},
   "outputs": [
    {
     "data": {
      "text/plain": [
       "<AxesSubplot:ylabel='Frequency'>"
      ]
     },
     "execution_count": 6,
     "metadata": {},
     "output_type": "execute_result"
    },
    {
     "data": {
      "image/png": "[encoded data removed]",
      "text/plain": [
       "<Figure size 720x576 with 1 Axes>"
      ]
     },
     "metadata": {
      "needs_background": "light"
     },
     "output_type": "display_data"
    }
   ],
   "source": [
    "bins = bins=np.arange(min(df_all['LENGTH']), max(df_all['LENGTH']) + 50, 50)\n",
    "df_all['LENGTH'].plot(kind='hist', color='#ff0000', figsize=(10, 8), bins=bins, logx=True)"
   ]
  },
  {
   "cell_type": "code",
   "execution_count": 7,
   "id": "ddd56419-b980-44ee-87a3-7d8203949548",
   "metadata": {},
   "outputs": [
    {
     "data": {
      "text/plain": [
       "<AxesSubplot:ylabel='Frequency'>"
      ]
     },
     "execution_count": 7,
     "metadata": {},
     "output_type": "execute_result"
    },
    {
     "data": {
      "image/png": "[encoded data removed]",
      "text/plain": [
       "<Figure size 720x576 with 1 Axes>"
      ]
     },
     "metadata": {
      "needs_background": "light"
     },
     "output_type": "display_data"
    }
   ],
   "source": [
    "col = 'Tm_(C)'\n",
    "bins = bins=np.arange(min(df_all[col]), max(df_all[col]) + 1, 1)\n",
    "df_all[col].plot(kind='hist', color='#ff0000', figsize=(10, 8), bins=bins)"
   ]
  },
  {
   "cell_type": "markdown",
   "id": "2d3ca1d9-3cd5-47db-9430-ac616ebb305e",
   "metadata": {},
   "source": [
    "# Dados do Dataframe filtrado"
   ]
  },
  {
   "cell_type": "code",
   "execution_count": 8,
   "id": "96a0af4e-ea5c-425e-957f-216f4313f5f8",
   "metadata": {},
   "outputs": [
    {
     "name": "stdout",
     "output_type": "stream",
     "text": [
      "Coluna: PROTEIN\n",
      "count                                       5956\n",
      "unique                                      1821\n",
      "top       Ubiquitinyl hydrolase 1 (EC 3.4.19.12)\n",
      "freq                                          63\n",
      "Name: PROTEIN, dtype: object\n",
      "\n",
      "Coluna: LENGTH\n",
      "count    5956.000000\n",
      "mean      192.911350\n",
      "std        66.858339\n",
      "min         0.000000\n",
      "25%       144.000000\n",
      "50%       200.000000\n",
      "75%       246.000000\n",
      "max       300.000000\n",
      "Name: LENGTH, dtype: float64\n",
      "\n",
      "Coluna: UNIPROT_ID\n",
      "count       5956\n",
      "unique      1839\n",
      "top       Q86UW4\n",
      "freq          28\n",
      "Name: UNIPROT_ID, dtype: object\n",
      "\n",
      "Coluna: Tm_(C)\n",
      "count    5956.000000\n",
      "mean       53.658684\n",
      "std         5.417989\n",
      "min        40.830000\n",
      "25%        49.647500\n",
      "50%        53.040000\n",
      "75%        57.082500\n",
      "max        67.000000\n",
      "Name: Tm_(C), dtype: float64\n",
      "\n",
      "Coluna: ADDITIVES\n",
      "count                                                  4673\n",
      "unique                                                    3\n",
      "top       30 μM Pervanadate, 0.67% NP40 (octylphenoxypol...\n",
      "freq                                                   1693\n",
      "Name: ADDITIVES, dtype: object\n",
      "\n"
     ]
    }
   ],
   "source": [
    "for col in df_filtered:\n",
    "    if col == 'index':\n",
    "        continue\n",
    "    print(f'Coluna: {col}')\n",
    "    print(df_filtered[col].describe())\n",
    "    print()"
   ]
  },
  {
   "cell_type": "code",
   "execution_count": 9,
   "id": "fccf4c89-2c48-4847-90b9-ad7940805a1a",
   "metadata": {},
   "outputs": [
    {
     "data": {
      "text/plain": [
       "<AxesSubplot:ylabel='Frequency'>"
      ]
     },
     "execution_count": 9,
     "metadata": {},
     "output_type": "execute_result"
    },
    {
     "data": {
      "image/png": "[encoded data removed]",
      "text/plain": [
       "<Figure size 720x576 with 1 Axes>"
      ]
     },
     "metadata": {
      "needs_background": "light"
     },
     "output_type": "display_data"
    }
   ],
   "source": [
    "bins = bins=np.arange(min(df_filtered['LENGTH']), max(df_filtered['LENGTH']) + 5, 5)\n",
    "df_filtered['LENGTH'].plot(kind='hist', color='#ff0000', figsize=(10, 8), bins=bins)"
   ]
  },
  {
   "cell_type": "code",
   "execution_count": 10,
   "id": "35381e45-843b-4171-83e3-86ee242bb8f2",
   "metadata": {},
   "outputs": [
    {
     "data": {
      "text/plain": [
       "<AxesSubplot:ylabel='Frequency'>"
      ]
     },
     "execution_count": 10,
     "metadata": {},
     "output_type": "execute_result"
    },
    {
     "data": {
      "image/png": "[encoded data removed]",
      "text/plain": [
       "<Figure size 720x576 with 1 Axes>"
      ]
     },
     "metadata": {
      "needs_background": "light"
     },
     "output_type": "display_data"
    }
   ],
   "source": [
    "col = 'Tm_(C)'\n",
    "bins = bins=np.arange(min(df_filtered[col]), max(df_filtered[col]) + 1, 1)\n",
    "df_filtered[col].plot(kind='hist', color='#ff0000', figsize=(10, 8), bins=bins)"
   ]
  },
  {
   "cell_type": "code",
   "execution_count": null,
   "id": "abc7624d-3000-4d08-a9fc-e776fa096f54",
   "metadata": {},
   "outputs": [],
   "source": []
  }
 ],
 "metadata": {
  "kernelspec": {
   "display_name": "ilumpy",
   "language": "python",
   "name": "ilumpy"
  },
  "language_info": {
   "codemirror_mode": {
    "name": "ipython",
    "version": 3
   },
   "file_extension": ".py",
   "mimetype": "text/x-python",
   "name": "python",
   "nbconvert_exporter": "python",
   "pygments_lexer": "ipython3",
   "version": "3.9.7"
  }
 },
 "nbformat": 4,
 "nbformat_minor": 5
}
