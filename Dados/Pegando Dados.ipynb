{
 "cells": [
  {
   "cell_type": "markdown",
   "id": "1a615c3b-62a5-4b25-a5ad-f5bd4f5a758b",
   "metadata": {},
   "source": [
    "# Introdução"
   ]
  },
  {
   "cell_type": "markdown",
   "id": "9476b8bf-e8e3-47e8-a762-84ddf2d56b5a",
   "metadata": {},
   "source": [
    "Este notebook tem como objetivo a coleta e tratamento inical dos dados para continuação do projeto de previsão da temperatura de melting de proteínas. Para tal, é necessário coletar e armazenar a quantidade de cada aminoácido para cada proteína presente nos dados selecionados"
   ]
  },
  {
   "cell_type": "markdown",
   "id": "57ed7405-111e-414a-905c-0f1ad4f1cf59",
   "metadata": {},
   "source": [
    "## Importação"
   ]
  },
  {
   "cell_type": "markdown",
   "id": "7e1b2b30-1fa7-4e0f-a22c-c520d02fed86",
   "metadata": {},
   "source": [
    "A primeira etapa é importar as funções, bibliotecas e módulos necessários para obtenção e tratamento dos dados"
   ]
  },
  {
   "cell_type": "code",
   "execution_count": 1,
   "id": "626708e0-b47a-4a2c-80e6-33e05185650c",
   "metadata": {},
   "outputs": [],
   "source": [
    "# Importação da função que pega o DataFrame ja filtrado\n",
    "from funcoes import get_filtered_df, get_amino\n",
    "\n",
    "# Importação do método que mostra o progresso da coleta e preparo dos dados\n",
    "from tqdm import tqdm\n",
    "\n",
    "# Importação do módulo para salval os dados\n",
    "import pickle"
   ]
  },
  {
   "cell_type": "markdown",
   "id": "1d4ee2cb-fac6-4a0f-8d01-f6917d0afe93",
   "metadata": {},
   "source": [
    "## Coleta dos dados"
   ]
  },
  {
   "cell_type": "markdown",
   "id": "0d955aa9-797b-4b17-9029-c318fca923e2",
   "metadata": {},
   "source": [
    "Podemos então começar a coletar os dados, aplicando os devidos filtros necessários para que a análise seja feita corretamente."
   ]
  },
  {
   "cell_type": "code",
   "execution_count": 2,
   "id": "a38bab93-0c6c-452c-bde4-a2f5b7015f82",
   "metadata": {},
   "outputs": [
    {
     "data": {
      "text/html": [
       "<div>\n",
       "<style scoped>\n",
       "    .dataframe tbody tr th:only-of-type {\n",
       "        vertical-align: middle;\n",
       "    }\n",
       "\n",
       "    .dataframe tbody tr th {\n",
       "        vertical-align: top;\n",
       "    }\n",
       "\n",
       "    .dataframe thead th {\n",
       "        text-align: right;\n",
       "    }\n",
       "</style>\n",
       "<table border=\"1\" class=\"dataframe\">\n",
       "  <thead>\n",
       "    <tr style=\"text-align: right;\">\n",
       "      <th></th>\n",
       "      <th>index</th>\n",
       "      <th>PROTEIN</th>\n",
       "      <th>LENGTH</th>\n",
       "      <th>UNIPROT_ID</th>\n",
       "      <th>Tm_(C)</th>\n",
       "      <th>ADDITIVES</th>\n",
       "    </tr>\n",
       "  </thead>\n",
       "  <tbody>\n",
       "    <tr>\n",
       "      <th>0</th>\n",
       "      <td>2</td>\n",
       "      <td>GTPase NRas</td>\n",
       "      <td>189.0</td>\n",
       "      <td>P01111</td>\n",
       "      <td>62.18</td>\n",
       "      <td>NaN</td>\n",
       "    </tr>\n",
       "    <tr>\n",
       "      <th>1</th>\n",
       "      <td>6</td>\n",
       "      <td>Rho-related GTP-binding protein RhoB</td>\n",
       "      <td>196.0</td>\n",
       "      <td>P62745</td>\n",
       "      <td>51.06</td>\n",
       "      <td>NaN</td>\n",
       "    </tr>\n",
       "    <tr>\n",
       "      <th>2</th>\n",
       "      <td>7</td>\n",
       "      <td>Prefoldin subunit 1</td>\n",
       "      <td>122.0</td>\n",
       "      <td>O60925</td>\n",
       "      <td>56.02</td>\n",
       "      <td>NaN</td>\n",
       "    </tr>\n",
       "    <tr>\n",
       "      <th>3</th>\n",
       "      <td>11</td>\n",
       "      <td>Ribonuclease H1</td>\n",
       "      <td>286.0</td>\n",
       "      <td>O60930</td>\n",
       "      <td>43.11</td>\n",
       "      <td>NaN</td>\n",
       "    </tr>\n",
       "    <tr>\n",
       "      <th>4</th>\n",
       "      <td>17</td>\n",
       "      <td>Short coiled-coil protein</td>\n",
       "      <td>159.0</td>\n",
       "      <td>Q9UIL1</td>\n",
       "      <td>53.87</td>\n",
       "      <td>NaN</td>\n",
       "    </tr>\n",
       "    <tr>\n",
       "      <th>...</th>\n",
       "      <td>...</td>\n",
       "      <td>...</td>\n",
       "      <td>...</td>\n",
       "      <td>...</td>\n",
       "      <td>...</td>\n",
       "      <td>...</td>\n",
       "    </tr>\n",
       "    <tr>\n",
       "      <th>5951</th>\n",
       "      <td>28186</td>\n",
       "      <td>Gamma-glutamylaminecyclotransferase</td>\n",
       "      <td>153.0</td>\n",
       "      <td>Q9BVM4</td>\n",
       "      <td>51.63</td>\n",
       "      <td>0.67% NP40 (octylphenoxypoly(ethyleneoxy)ethanol)</td>\n",
       "    </tr>\n",
       "    <tr>\n",
       "      <th>5952</th>\n",
       "      <td>28220</td>\n",
       "      <td>Prostamide/prostaglandin F synthase</td>\n",
       "      <td>198.0</td>\n",
       "      <td>Q8TBF2</td>\n",
       "      <td>54.11</td>\n",
       "      <td>0.67% NP40 (octylphenoxypoly(ethyleneoxy)ethanol)</td>\n",
       "    </tr>\n",
       "    <tr>\n",
       "      <th>5953</th>\n",
       "      <td>28276</td>\n",
       "      <td>NEDD8-conjugating enzyme UBE2F</td>\n",
       "      <td>185.0</td>\n",
       "      <td>Q969M7</td>\n",
       "      <td>53.66</td>\n",
       "      <td>0.67% NP40 (octylphenoxypoly(ethyleneoxy)ethanol)</td>\n",
       "    </tr>\n",
       "    <tr>\n",
       "      <th>5954</th>\n",
       "      <td>28352</td>\n",
       "      <td>Rab-like protein 2A</td>\n",
       "      <td>228.0</td>\n",
       "      <td>Q9UBK7</td>\n",
       "      <td>48.03</td>\n",
       "      <td>0.67% NP40 (octylphenoxypoly(ethyleneoxy)ethanol)</td>\n",
       "    </tr>\n",
       "    <tr>\n",
       "      <th>5955</th>\n",
       "      <td>28356</td>\n",
       "      <td>PDZ and LIM domain protein 5 (Fragment)</td>\n",
       "      <td>85.0</td>\n",
       "      <td>H0Y929</td>\n",
       "      <td>49.89</td>\n",
       "      <td>0.67% NP40 (octylphenoxypoly(ethyleneoxy)ethanol)</td>\n",
       "    </tr>\n",
       "  </tbody>\n",
       "</table>\n",
       "<p>5956 rows × 6 columns</p>\n",
       "</div>"
      ],
      "text/plain": [
       "      index                                  PROTEIN  LENGTH UNIPROT_ID  \\\n",
       "0         2                             GTPase NRas    189.0     P01111   \n",
       "1         6    Rho-related GTP-binding protein RhoB    196.0     P62745   \n",
       "2         7                      Prefoldin subunit 1   122.0     O60925   \n",
       "3        11                         Ribonuclease H1    286.0     O60930   \n",
       "4        17                Short coiled-coil protein   159.0     Q9UIL1   \n",
       "...     ...                                      ...     ...        ...   \n",
       "5951  28186     Gamma-glutamylaminecyclotransferase    153.0     Q9BVM4   \n",
       "5952  28220     Prostamide/prostaglandin F synthase    198.0     Q8TBF2   \n",
       "5953  28276          NEDD8-conjugating enzyme UBE2F    185.0     Q969M7   \n",
       "5954  28352                      Rab-like protein 2A   228.0     Q9UBK7   \n",
       "5955  28356  PDZ and LIM domain protein 5 (Fragment)    85.0     H0Y929   \n",
       "\n",
       "      Tm_(C)                                          ADDITIVES  \n",
       "0      62.18                                                NaN  \n",
       "1      51.06                                                NaN  \n",
       "2      56.02                                                NaN  \n",
       "3      43.11                                                NaN  \n",
       "4      53.87                                                NaN  \n",
       "...      ...                                                ...  \n",
       "5951   51.63  0.67% NP40 (octylphenoxypoly(ethyleneoxy)ethanol)  \n",
       "5952   54.11  0.67% NP40 (octylphenoxypoly(ethyleneoxy)ethanol)  \n",
       "5953   53.66  0.67% NP40 (octylphenoxypoly(ethyleneoxy)ethanol)  \n",
       "5954   48.03  0.67% NP40 (octylphenoxypoly(ethyleneoxy)ethanol)  \n",
       "5955   49.89  0.67% NP40 (octylphenoxypoly(ethyleneoxy)ethanol)  \n",
       "\n",
       "[5956 rows x 6 columns]"
      ]
     },
     "execution_count": 2,
     "metadata": {},
     "output_type": "execute_result"
    }
   ],
   "source": [
    "df = get_filtered_df('Human (Jurkat lymphoma T cells).xlsx', 300, ['PROTEIN', 'LENGTH', 'UNIPROT_ID', 'Tm_(C)', 'ADDITIVES'])\n",
    "df"
   ]
  },
  {
   "cell_type": "markdown",
   "id": "601aa6b6-7e4d-40fa-a663-bc0ab59781c1",
   "metadata": {},
   "source": [
    "Após a coleta dos dados brutos, podemos começar a coletar a sequência de aminoácidos de cada proteínas, seguido do processamento para coleta da quantidade de aminoácidos e então o armazenamento dos dados em um dicionário que será salvado para facilitação de obtanção das informações"
   ]
  },
  {
   "cell_type": "code",
   "execution_count": null,
   "id": "72eaf491-9f69-48bd-aedd-71a7755294f7",
   "metadata": {},
   "outputs": [
    {
     "name": "stderr",
     "output_type": "stream",
     "text": [
      "Progress: 100%|██████████████████████████████████████████████▉| 1836/1839 [1:01:22<00:06,  2.09s/it]"
     ]
    }
   ],
   "source": [
    "proteins = {}\n",
    "\n",
    "for i, id_ in tqdm(enumerate(df['UNIPROT_ID'].unique()), ncols=100, desc='Progress', total=len(df['UNIPROT_ID'].unique())):\n",
    "    proteins[id_] = get_amino(id_)"
   ]
  },
  {
   "cell_type": "markdown",
   "id": "5c32f9e3-746e-4970-af17-6d41fa7171fb",
   "metadata": {},
   "source": [
    "## Salvando os dados"
   ]
  },
  {
   "cell_type": "markdown",
   "id": "28b5a2ad-9440-45f4-9bee-5643542a9337",
   "metadata": {},
   "source": [
    "Após o armazenamento dos dados, podemos salvá-los em um arquivo .pickle (próprio do python) para utilizá-los depois"
   ]
  },
  {
   "cell_type": "code",
   "execution_count": null,
   "id": "8a5bb8e6-0afe-480b-b3c9-4037aaa89585",
   "metadata": {},
   "outputs": [],
   "source": [
    "file = 'proteins_aminoacids.pickle'\n",
    "\n",
    "with open(file, 'wb') as file_handler:\n",
    "    pickle.dump(proteins, file_handler, protocol=pickle.HIGHEST_PROTOCOL)\n",
    "with open(file, 'rb') as file_handler:\n",
    "    proteins_saved = pickle.load(file_handler)\n",
    "\n",
    "print(proteins == proteins_saved)"
   ]
  }
 ],
 "metadata": {
  "kernelspec": {
   "display_name": "ilumpy",
   "language": "python",
   "name": "ilumpy"
  },
  "language_info": {
   "codemirror_mode": {
    "name": "ipython",
    "version": 3
   },
   "file_extension": ".py",
   "mimetype": "text/x-python",
   "name": "python",
   "nbconvert_exporter": "python",
   "pygments_lexer": "ipython3",
   "version": "3.9.7"
  }
 },
 "nbformat": 4,
 "nbformat_minor": 5
}
