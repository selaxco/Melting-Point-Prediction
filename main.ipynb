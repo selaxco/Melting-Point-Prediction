{
 "cells": [
  {
   "cell_type": "code",
   "execution_count": 1,
   "id": "cd56186a-625e-49ef-ba66-fc80e6fa4e0b",
   "metadata": {},
   "outputs": [],
   "source": [
    "from funcoes import get_filtered_df, get_amino\n",
    "import pickle"
   ]
  },
  {
   "cell_type": "code",
   "execution_count": 15,
   "id": "1b580009-af31-4554-a0e1-47de4d0845fe",
   "metadata": {},
   "outputs": [
    {
     "name": "stdout",
     "output_type": "stream",
     "text": [
      "ID: P01111\n",
      "A:10 \\ C: 5 \\ D:16 \\ E:12 \\ F: 6 \\ G:14 \\ H: 2 \\ I:11 \\ K:12 \\ L:14 \\ M: 7 \\ N: 6 \\ P: 5 \\ Q:10 \\ R:10 \\ S:10 \\ T:13 \\ V:17 \\ W: 0 \\ Y: 9 \\ \n",
      "ID: P62745\n",
      "A:15 \\ C: 8 \\ D:16 \\ E:16 \\ F: 6 \\ G: 9 \\ H: 2 \\ I: 9 \\ K:14 \\ L:15 \\ M: 4 \\ N: 6 \\ P:10 \\ Q: 6 \\ R:12 \\ S: 8 \\ T: 9 \\ V:22 \\ W: 2 \\ Y: 7 \\ \n",
      "ID: O60925\n",
      "A:11 \\ C: 0 \\ D: 6 \\ E:16 \\ F: 2 \\ G: 2 \\ H: 3 \\ I: 9 \\ K:15 \\ L:13 \\ M: 6 \\ N: 3 \\ P: 1 \\ Q:10 \\ R: 6 \\ S: 4 \\ T: 7 \\ V: 6 \\ W: 0 \\ Y: 2 \\ \n",
      "ID: O60930\n",
      "A:28 \\ C: 5 \\ D:12 \\ E:21 \\ F:13 \\ G:27 \\ H: 9 \\ I:10 \\ K:17 \\ L:15 \\ M: 7 \\ N:12 \\ P:14 \\ Q:11 \\ R:24 \\ S:17 \\ T:12 \\ V:18 \\ W: 8 \\ Y: 6 \\ \n",
      "ID: Q9UIL1\n",
      "A:10 \\ C: 2 \\ D: 9 \\ E:12 \\ F: 5 \\ G: 8 \\ H: 2 \\ I: 3 \\ K: 9 \\ L:17 \\ M: 6 \\ N: 6 \\ P: 6 \\ Q:10 \\ R:15 \\ S:18 \\ T: 6 \\ V:11 \\ W: 2 \\ Y: 2 \\ \n",
      "ID: Q9P086\n",
      "A:15 \\ C: 2 \\ D: 5 \\ E:12 \\ F: 1 \\ G: 4 \\ H: 2 \\ I: 5 \\ K: 5 \\ L:14 \\ M: 3 \\ N: 4 \\ P: 1 \\ Q: 8 \\ R:10 \\ S: 9 \\ T: 7 \\ V: 6 \\ W: 0 \\ Y: 4 \\ \n",
      "ID: Q9BX68\n",
      "A:25 \\ C: 1 \\ D: 8 \\ E: 6 \\ F: 3 \\ G:18 \\ H: 5 \\ I: 8 \\ K: 7 \\ L:18 \\ M: 1 \\ N: 2 \\ P:10 \\ Q:13 \\ R:10 \\ S: 4 \\ T: 5 \\ V:15 \\ W: 1 \\ Y: 3 \\ \n",
      "ID: P46777\n",
      "A:28 \\ C: 4 \\ D:15 \\ E:20 \\ F:10 \\ G:19 \\ H: 5 \\ I:13 \\ K:35 \\ L:15 \\ M:11 \\ N:13 \\ P: 9 \\ Q:11 \\ R:24 \\ S:10 \\ T:12 \\ V:21 \\ W: 1 \\ Y:21 \\ \n",
      "ID: O95816\n",
      "A:17 \\ C: 3 \\ D:10 \\ E:22 \\ F: 4 \\ G: 8 \\ H: 5 \\ I:13 \\ K:14 \\ L:24 \\ M: 6 \\ N:12 \\ P: 3 \\ Q:14 \\ R:16 \\ S:21 \\ T: 8 \\ V:10 \\ W: 0 \\ Y: 1 \\ \n",
      "ID: O95865\n",
      "A:28 \\ C: 5 \\ D:17 \\ E:15 \\ F: 7 \\ G:36 \\ H: 7 \\ I: 6 \\ K: 7 \\ L:43 \\ M: 3 \\ N: 3 \\ P:22 \\ Q: 8 \\ R:19 \\ S:20 \\ T:15 \\ V:21 \\ W: 2 \\ Y: 1 \\ \n"
     ]
    }
   ],
   "source": [
    "file = 'Dados/proteins_aminoacids.pickle'\n",
    "\n",
    "with open(file, 'rb') as file_handler:\n",
    "    proteins = pickle.load(file_handler)\n",
    "\n",
    "i = 0\n",
    "for protein in proteins:\n",
    "    output = f'ID: {protein}\\n'\n",
    "    for amino in proteins[protein]:\n",
    "        output += f'{amino:1}:{proteins[protein][amino]:2} \\ '\n",
    "    print(output)\n",
    "    i += 1\n",
    "    if i >= 10:\n",
    "        break"
   ]
  },
  {
   "cell_type": "code",
   "execution_count": null,
   "id": "64e767be-acfa-497c-81b9-99c224496f04",
   "metadata": {},
   "outputs": [],
   "source": []
  }
 ],
 "metadata": {
  "kernelspec": {
   "display_name": "ilumpy",
   "language": "python",
   "name": "ilumpy"
  },
  "language_info": {
   "codemirror_mode": {
    "name": "ipython",
    "version": 3
   },
   "file_extension": ".py",
   "mimetype": "text/x-python",
   "name": "python",
   "nbconvert_exporter": "python",
   "pygments_lexer": "ipython3",
   "version": "3.9.7"
  }
 },
 "nbformat": 4,
 "nbformat_minor": 5
}
