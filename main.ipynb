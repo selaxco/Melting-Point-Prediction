{
 "cells": [
  {
   "cell_type": "markdown",
   "id": "4338820e-4828-453a-beb6-092f594e421e",
   "metadata": {},
   "source": [
    "# Introdução"
   ]
  },
  {
   "cell_type": "markdown",
   "id": "321af35e-0c91-4854-8f2f-a7698fe4c2e6",
   "metadata": {},
   "source": [
    "Este é o notebook em que vários testes de redes neurais com diferentes parâmetros podem ser rodados para que se tenha uma comparação justa para treinar uma rede única final que utilizará os dados de teste final para comparar se o método foi realmente efetivo"
   ]
  },
  {
   "cell_type": "markdown",
   "id": "e699d7b1-65ff-4a9a-b1dd-f025e2c76a37",
   "metadata": {},
   "source": [
    "# Imports"
   ]
  },
  {
   "cell_type": "markdown",
   "id": "15982ea8-4de8-4180-8a52-7497ef5908f8",
   "metadata": {},
   "source": [
    "Começamos importando as funções, bibliotecas e módulos necessários para fazer a rede neural e avaliar seus resultados"
   ]
  },
  {
   "cell_type": "code",
   "execution_count": 1,
   "id": "cd56186a-625e-49ef-ba66-fc80e6fa4e0b",
   "metadata": {},
   "outputs": [],
   "source": [
    "# Funções criadas para pegar os dados e criar cada mlp separadamente\n",
    "from funcoes import get_filtered_df, get_additive_input_type_1, get_additive_input_type_2, cria_mlp\n",
    "\n",
    "# Módulo para criação de DataFrames\n",
    "import pandas as pd\n",
    "# Módulo para carregar dados de arquivos .pickle (python)\n",
    "import pickle\n",
    "\n",
    "# Módulo torch para referênciação das funções de ativação\n",
    "import torch\n",
    "\n",
    "# Módulo para divisão entre dados de treino e teste (treino, teste e teste real)\n",
    "from sklearn.model_selection import train_test_split\n",
    "# Módulo para normalização dos dados para manter um padrão de valores\n",
    "from sklearn.preprocessing import StandardScaler"
   ]
  },
  {
   "cell_type": "markdown",
   "id": "ca252417-67bf-42e5-8885-300475e7ece3",
   "metadata": {},
   "source": [
    "# DataFrame"
   ]
  },
  {
   "cell_type": "markdown",
   "id": "46fa3605-6762-4123-a477-545e48042d7d",
   "metadata": {},
   "source": [
    "Com as funções, bibliotecas e módulos importados, podemos pegar os dados da tabela de excel obtida no banco de dados. Para mais informações acessar o github: https://github.com/selaxco/Melting-Point-Prediction"
   ]
  },
  {
   "cell_type": "code",
   "execution_count": 2,
   "id": "3e3921b7-dbf3-41f1-ae83-eefd0dfe2096",
   "metadata": {},
   "outputs": [
    {
     "data": {
      "text/html": [
       "<div>\n",
       "<style scoped>\n",
       "    .dataframe tbody tr th:only-of-type {\n",
       "        vertical-align: middle;\n",
       "    }\n",
       "\n",
       "    .dataframe tbody tr th {\n",
       "        vertical-align: top;\n",
       "    }\n",
       "\n",
       "    .dataframe thead th {\n",
       "        text-align: right;\n",
       "    }\n",
       "</style>\n",
       "<table border=\"1\" class=\"dataframe\">\n",
       "  <thead>\n",
       "    <tr style=\"text-align: right;\">\n",
       "      <th></th>\n",
       "      <th>index</th>\n",
       "      <th>PROTEIN</th>\n",
       "      <th>LENGTH</th>\n",
       "      <th>UNIPROT_ID</th>\n",
       "      <th>Tm_(C)</th>\n",
       "      <th>ADDITIVES</th>\n",
       "    </tr>\n",
       "  </thead>\n",
       "  <tbody>\n",
       "    <tr>\n",
       "      <th>0</th>\n",
       "      <td>2</td>\n",
       "      <td>GTPase NRas</td>\n",
       "      <td>189.0</td>\n",
       "      <td>P01111</td>\n",
       "      <td>62.18</td>\n",
       "      <td>NaN</td>\n",
       "    </tr>\n",
       "    <tr>\n",
       "      <th>1</th>\n",
       "      <td>6</td>\n",
       "      <td>Rho-related GTP-binding protein RhoB</td>\n",
       "      <td>196.0</td>\n",
       "      <td>P62745</td>\n",
       "      <td>51.06</td>\n",
       "      <td>NaN</td>\n",
       "    </tr>\n",
       "    <tr>\n",
       "      <th>2</th>\n",
       "      <td>7</td>\n",
       "      <td>Prefoldin subunit 1</td>\n",
       "      <td>122.0</td>\n",
       "      <td>O60925</td>\n",
       "      <td>56.02</td>\n",
       "      <td>NaN</td>\n",
       "    </tr>\n",
       "    <tr>\n",
       "      <th>3</th>\n",
       "      <td>11</td>\n",
       "      <td>Ribonuclease H1</td>\n",
       "      <td>286.0</td>\n",
       "      <td>O60930</td>\n",
       "      <td>43.11</td>\n",
       "      <td>NaN</td>\n",
       "    </tr>\n",
       "    <tr>\n",
       "      <th>4</th>\n",
       "      <td>17</td>\n",
       "      <td>Short coiled-coil protein</td>\n",
       "      <td>159.0</td>\n",
       "      <td>Q9UIL1</td>\n",
       "      <td>53.87</td>\n",
       "      <td>NaN</td>\n",
       "    </tr>\n",
       "    <tr>\n",
       "      <th>...</th>\n",
       "      <td>...</td>\n",
       "      <td>...</td>\n",
       "      <td>...</td>\n",
       "      <td>...</td>\n",
       "      <td>...</td>\n",
       "      <td>...</td>\n",
       "    </tr>\n",
       "    <tr>\n",
       "      <th>5951</th>\n",
       "      <td>28186</td>\n",
       "      <td>Gamma-glutamylaminecyclotransferase</td>\n",
       "      <td>153.0</td>\n",
       "      <td>Q9BVM4</td>\n",
       "      <td>51.63</td>\n",
       "      <td>0.67% NP40 (octylphenoxypoly(ethyleneoxy)ethanol)</td>\n",
       "    </tr>\n",
       "    <tr>\n",
       "      <th>5952</th>\n",
       "      <td>28220</td>\n",
       "      <td>Prostamide/prostaglandin F synthase</td>\n",
       "      <td>198.0</td>\n",
       "      <td>Q8TBF2</td>\n",
       "      <td>54.11</td>\n",
       "      <td>0.67% NP40 (octylphenoxypoly(ethyleneoxy)ethanol)</td>\n",
       "    </tr>\n",
       "    <tr>\n",
       "      <th>5953</th>\n",
       "      <td>28276</td>\n",
       "      <td>NEDD8-conjugating enzyme UBE2F</td>\n",
       "      <td>185.0</td>\n",
       "      <td>Q969M7</td>\n",
       "      <td>53.66</td>\n",
       "      <td>0.67% NP40 (octylphenoxypoly(ethyleneoxy)ethanol)</td>\n",
       "    </tr>\n",
       "    <tr>\n",
       "      <th>5954</th>\n",
       "      <td>28352</td>\n",
       "      <td>Rab-like protein 2A</td>\n",
       "      <td>228.0</td>\n",
       "      <td>Q9UBK7</td>\n",
       "      <td>48.03</td>\n",
       "      <td>0.67% NP40 (octylphenoxypoly(ethyleneoxy)ethanol)</td>\n",
       "    </tr>\n",
       "    <tr>\n",
       "      <th>5955</th>\n",
       "      <td>28356</td>\n",
       "      <td>PDZ and LIM domain protein 5 (Fragment)</td>\n",
       "      <td>85.0</td>\n",
       "      <td>H0Y929</td>\n",
       "      <td>49.89</td>\n",
       "      <td>0.67% NP40 (octylphenoxypoly(ethyleneoxy)ethanol)</td>\n",
       "    </tr>\n",
       "  </tbody>\n",
       "</table>\n",
       "<p>5956 rows × 6 columns</p>\n",
       "</div>"
      ],
      "text/plain": [
       "      index                                  PROTEIN  LENGTH UNIPROT_ID  \\\n",
       "0         2                             GTPase NRas    189.0     P01111   \n",
       "1         6    Rho-related GTP-binding protein RhoB    196.0     P62745   \n",
       "2         7                      Prefoldin subunit 1   122.0     O60925   \n",
       "3        11                         Ribonuclease H1    286.0     O60930   \n",
       "4        17                Short coiled-coil protein   159.0     Q9UIL1   \n",
       "...     ...                                      ...     ...        ...   \n",
       "5951  28186     Gamma-glutamylaminecyclotransferase    153.0     Q9BVM4   \n",
       "5952  28220     Prostamide/prostaglandin F synthase    198.0     Q8TBF2   \n",
       "5953  28276          NEDD8-conjugating enzyme UBE2F    185.0     Q969M7   \n",
       "5954  28352                      Rab-like protein 2A   228.0     Q9UBK7   \n",
       "5955  28356  PDZ and LIM domain protein 5 (Fragment)    85.0     H0Y929   \n",
       "\n",
       "      Tm_(C)                                          ADDITIVES  \n",
       "0      62.18                                                NaN  \n",
       "1      51.06                                                NaN  \n",
       "2      56.02                                                NaN  \n",
       "3      43.11                                                NaN  \n",
       "4      53.87                                                NaN  \n",
       "...      ...                                                ...  \n",
       "5951   51.63  0.67% NP40 (octylphenoxypoly(ethyleneoxy)ethanol)  \n",
       "5952   54.11  0.67% NP40 (octylphenoxypoly(ethyleneoxy)ethanol)  \n",
       "5953   53.66  0.67% NP40 (octylphenoxypoly(ethyleneoxy)ethanol)  \n",
       "5954   48.03  0.67% NP40 (octylphenoxypoly(ethyleneoxy)ethanol)  \n",
       "5955   49.89  0.67% NP40 (octylphenoxypoly(ethyleneoxy)ethanol)  \n",
       "\n",
       "[5956 rows x 6 columns]"
      ]
     },
     "execution_count": 2,
     "metadata": {},
     "output_type": "execute_result"
    }
   ],
   "source": [
    "df = get_filtered_df('Dados/Human (Jurkat lymphoma T cells).xlsx', 300)\n",
    "df"
   ]
  },
  {
   "cell_type": "markdown",
   "id": "08157cfd-db0d-4b11-a754-e500f8cf938b",
   "metadata": {},
   "source": [
    "# Aminoacidos"
   ]
  },
  {
   "cell_type": "markdown",
   "id": "1a810bd8-6114-409d-9d08-50e9c787d549",
   "metadata": {},
   "source": [
    "Podemos então carregar os dados dos aminoácidos já calculados por outro notebook"
   ]
  },
  {
   "cell_type": "code",
   "execution_count": 3,
   "id": "1b580009-af31-4554-a0e1-47de4d0845fe",
   "metadata": {},
   "outputs": [
    {
     "name": "stdout",
     "output_type": "stream",
     "text": [
      "ID: P01111\n",
      "A:10 \\ C: 5 \\ D:16 \\ E:12 \\ F: 6 \\ G:14 \\ H: 2 \\ I:11 \\ K:12 \\ L:14 \\ M: 7 \\ N: 6 \\ P: 5 \\ Q:10 \\ R:10 \\ S:10 \\ T:13 \\ V:17 \\ W: 0 \\ Y: 9 \n",
      "ID: P62745\n",
      "A:15 \\ C: 8 \\ D:16 \\ E:16 \\ F: 6 \\ G: 9 \\ H: 2 \\ I: 9 \\ K:14 \\ L:15 \\ M: 4 \\ N: 6 \\ P:10 \\ Q: 6 \\ R:12 \\ S: 8 \\ T: 9 \\ V:22 \\ W: 2 \\ Y: 7 \n",
      "ID: O60925\n",
      "A:11 \\ C: 0 \\ D: 6 \\ E:16 \\ F: 2 \\ G: 2 \\ H: 3 \\ I: 9 \\ K:15 \\ L:13 \\ M: 6 \\ N: 3 \\ P: 1 \\ Q:10 \\ R: 6 \\ S: 4 \\ T: 7 \\ V: 6 \\ W: 0 \\ Y: 2 \n",
      "ID: O60930\n",
      "A:28 \\ C: 5 \\ D:12 \\ E:21 \\ F:13 \\ G:27 \\ H: 9 \\ I:10 \\ K:17 \\ L:15 \\ M: 7 \\ N:12 \\ P:14 \\ Q:11 \\ R:24 \\ S:17 \\ T:12 \\ V:18 \\ W: 8 \\ Y: 6 \n",
      "ID: Q9UIL1\n",
      "A:10 \\ C: 2 \\ D: 9 \\ E:12 \\ F: 5 \\ G: 8 \\ H: 2 \\ I: 3 \\ K: 9 \\ L:17 \\ M: 6 \\ N: 6 \\ P: 6 \\ Q:10 \\ R:15 \\ S:18 \\ T: 6 \\ V:11 \\ W: 2 \\ Y: 2 \n",
      "ID: Q9P086\n",
      "A:15 \\ C: 2 \\ D: 5 \\ E:12 \\ F: 1 \\ G: 4 \\ H: 2 \\ I: 5 \\ K: 5 \\ L:14 \\ M: 3 \\ N: 4 \\ P: 1 \\ Q: 8 \\ R:10 \\ S: 9 \\ T: 7 \\ V: 6 \\ W: 0 \\ Y: 4 \n",
      "ID: Q9BX68\n",
      "A:25 \\ C: 1 \\ D: 8 \\ E: 6 \\ F: 3 \\ G:18 \\ H: 5 \\ I: 8 \\ K: 7 \\ L:18 \\ M: 1 \\ N: 2 \\ P:10 \\ Q:13 \\ R:10 \\ S: 4 \\ T: 5 \\ V:15 \\ W: 1 \\ Y: 3 \n",
      "ID: P46777\n",
      "A:28 \\ C: 4 \\ D:15 \\ E:20 \\ F:10 \\ G:19 \\ H: 5 \\ I:13 \\ K:35 \\ L:15 \\ M:11 \\ N:13 \\ P: 9 \\ Q:11 \\ R:24 \\ S:10 \\ T:12 \\ V:21 \\ W: 1 \\ Y:21 \n",
      "ID: O95816\n",
      "A:17 \\ C: 3 \\ D:10 \\ E:22 \\ F: 4 \\ G: 8 \\ H: 5 \\ I:13 \\ K:14 \\ L:24 \\ M: 6 \\ N:12 \\ P: 3 \\ Q:14 \\ R:16 \\ S:21 \\ T: 8 \\ V:10 \\ W: 0 \\ Y: 1 \n",
      "ID: O95865\n",
      "A:28 \\ C: 5 \\ D:17 \\ E:15 \\ F: 7 \\ G:36 \\ H: 7 \\ I: 6 \\ K: 7 \\ L:43 \\ M: 3 \\ N: 3 \\ P:22 \\ Q: 8 \\ R:19 \\ S:20 \\ T:15 \\ V:21 \\ W: 2 \\ Y: 1 \n"
     ]
    }
   ],
   "source": [
    "file = 'Dados/proteins_aminoacids.pickle'\n",
    "\n",
    "with open(file, 'rb') as file_handler:\n",
    "    proteins = pickle.load(file_handler)\n",
    "\n",
    "i = 0\n",
    "for protein in proteins:\n",
    "    output = f'ID: {protein}\\n'\n",
    "    for amino in proteins[protein]:\n",
    "        output += f'{amino:1}:{proteins[protein][amino]:2} \\ '\n",
    "    print(output[:-2])\n",
    "    i += 1\n",
    "    if i >= 10:\n",
    "        break"
   ]
  },
  {
   "cell_type": "markdown",
   "id": "acfe686d-cc14-4ac9-9710-a0b0ab1600e9",
   "metadata": {},
   "source": [
    "# Tratando dados"
   ]
  },
  {
   "cell_type": "markdown",
   "id": "dc96f180-e607-4611-90cd-3eb810435a49",
   "metadata": {},
   "source": [
    "Podemos tratar os dados para que fiquemos apenas com nossas features e targets, além de informações importantes"
   ]
  },
  {
   "cell_type": "code",
   "execution_count": 4,
   "id": "64e767be-acfa-497c-81b9-99c224496f04",
   "metadata": {},
   "outputs": [
    {
     "data": {
      "text/html": [
       "<div>\n",
       "<style scoped>\n",
       "    .dataframe tbody tr th:only-of-type {\n",
       "        vertical-align: middle;\n",
       "    }\n",
       "\n",
       "    .dataframe tbody tr th {\n",
       "        vertical-align: top;\n",
       "    }\n",
       "\n",
       "    .dataframe thead th {\n",
       "        text-align: right;\n",
       "    }\n",
       "</style>\n",
       "<table border=\"1\" class=\"dataframe\">\n",
       "  <thead>\n",
       "    <tr style=\"text-align: right;\">\n",
       "      <th></th>\n",
       "      <th>Nomes</th>\n",
       "      <th>A</th>\n",
       "      <th>C</th>\n",
       "      <th>D</th>\n",
       "      <th>E</th>\n",
       "      <th>F</th>\n",
       "      <th>G</th>\n",
       "      <th>H</th>\n",
       "      <th>I</th>\n",
       "      <th>K</th>\n",
       "      <th>...</th>\n",
       "      <th>R</th>\n",
       "      <th>S</th>\n",
       "      <th>T</th>\n",
       "      <th>V</th>\n",
       "      <th>W</th>\n",
       "      <th>Y</th>\n",
       "      <th>Type1 Additive</th>\n",
       "      <th>Type2 Additive 1</th>\n",
       "      <th>Type2 Additive 2</th>\n",
       "      <th>Melting Point (C)</th>\n",
       "    </tr>\n",
       "  </thead>\n",
       "  <tbody>\n",
       "    <tr>\n",
       "      <th>0</th>\n",
       "      <td>GTPase NRas</td>\n",
       "      <td>10</td>\n",
       "      <td>5</td>\n",
       "      <td>16</td>\n",
       "      <td>12</td>\n",
       "      <td>6</td>\n",
       "      <td>14</td>\n",
       "      <td>2</td>\n",
       "      <td>11</td>\n",
       "      <td>12</td>\n",
       "      <td>...</td>\n",
       "      <td>10</td>\n",
       "      <td>10</td>\n",
       "      <td>13</td>\n",
       "      <td>17</td>\n",
       "      <td>0</td>\n",
       "      <td>9</td>\n",
       "      <td>0.000000</td>\n",
       "      <td>0</td>\n",
       "      <td>0</td>\n",
       "      <td>62.18</td>\n",
       "    </tr>\n",
       "    <tr>\n",
       "      <th>1</th>\n",
       "      <td>Rho-related GTP-binding protein RhoB</td>\n",
       "      <td>15</td>\n",
       "      <td>8</td>\n",
       "      <td>16</td>\n",
       "      <td>16</td>\n",
       "      <td>6</td>\n",
       "      <td>9</td>\n",
       "      <td>2</td>\n",
       "      <td>9</td>\n",
       "      <td>14</td>\n",
       "      <td>...</td>\n",
       "      <td>12</td>\n",
       "      <td>8</td>\n",
       "      <td>9</td>\n",
       "      <td>22</td>\n",
       "      <td>2</td>\n",
       "      <td>7</td>\n",
       "      <td>0.000000</td>\n",
       "      <td>0</td>\n",
       "      <td>0</td>\n",
       "      <td>51.06</td>\n",
       "    </tr>\n",
       "    <tr>\n",
       "      <th>2</th>\n",
       "      <td>Prefoldin subunit 1</td>\n",
       "      <td>11</td>\n",
       "      <td>0</td>\n",
       "      <td>6</td>\n",
       "      <td>16</td>\n",
       "      <td>2</td>\n",
       "      <td>2</td>\n",
       "      <td>3</td>\n",
       "      <td>9</td>\n",
       "      <td>15</td>\n",
       "      <td>...</td>\n",
       "      <td>6</td>\n",
       "      <td>4</td>\n",
       "      <td>7</td>\n",
       "      <td>6</td>\n",
       "      <td>0</td>\n",
       "      <td>2</td>\n",
       "      <td>0.000000</td>\n",
       "      <td>0</td>\n",
       "      <td>0</td>\n",
       "      <td>56.02</td>\n",
       "    </tr>\n",
       "    <tr>\n",
       "      <th>3</th>\n",
       "      <td>Ribonuclease H1</td>\n",
       "      <td>28</td>\n",
       "      <td>5</td>\n",
       "      <td>12</td>\n",
       "      <td>21</td>\n",
       "      <td>13</td>\n",
       "      <td>27</td>\n",
       "      <td>9</td>\n",
       "      <td>10</td>\n",
       "      <td>17</td>\n",
       "      <td>...</td>\n",
       "      <td>24</td>\n",
       "      <td>17</td>\n",
       "      <td>12</td>\n",
       "      <td>18</td>\n",
       "      <td>8</td>\n",
       "      <td>6</td>\n",
       "      <td>0.000000</td>\n",
       "      <td>0</td>\n",
       "      <td>0</td>\n",
       "      <td>43.11</td>\n",
       "    </tr>\n",
       "    <tr>\n",
       "      <th>4</th>\n",
       "      <td>Short coiled-coil protein</td>\n",
       "      <td>10</td>\n",
       "      <td>2</td>\n",
       "      <td>9</td>\n",
       "      <td>12</td>\n",
       "      <td>5</td>\n",
       "      <td>8</td>\n",
       "      <td>2</td>\n",
       "      <td>3</td>\n",
       "      <td>9</td>\n",
       "      <td>...</td>\n",
       "      <td>15</td>\n",
       "      <td>18</td>\n",
       "      <td>6</td>\n",
       "      <td>11</td>\n",
       "      <td>2</td>\n",
       "      <td>2</td>\n",
       "      <td>0.000000</td>\n",
       "      <td>0</td>\n",
       "      <td>0</td>\n",
       "      <td>53.87</td>\n",
       "    </tr>\n",
       "    <tr>\n",
       "      <th>...</th>\n",
       "      <td>...</td>\n",
       "      <td>...</td>\n",
       "      <td>...</td>\n",
       "      <td>...</td>\n",
       "      <td>...</td>\n",
       "      <td>...</td>\n",
       "      <td>...</td>\n",
       "      <td>...</td>\n",
       "      <td>...</td>\n",
       "      <td>...</td>\n",
       "      <td>...</td>\n",
       "      <td>...</td>\n",
       "      <td>...</td>\n",
       "      <td>...</td>\n",
       "      <td>...</td>\n",
       "      <td>...</td>\n",
       "      <td>...</td>\n",
       "      <td>...</td>\n",
       "      <td>...</td>\n",
       "      <td>...</td>\n",
       "      <td>...</td>\n",
       "    </tr>\n",
       "    <tr>\n",
       "      <th>5951</th>\n",
       "      <td>Gamma-glutamylaminecyclotransferase</td>\n",
       "      <td>14</td>\n",
       "      <td>2</td>\n",
       "      <td>7</td>\n",
       "      <td>12</td>\n",
       "      <td>6</td>\n",
       "      <td>12</td>\n",
       "      <td>7</td>\n",
       "      <td>2</td>\n",
       "      <td>1</td>\n",
       "      <td>...</td>\n",
       "      <td>16</td>\n",
       "      <td>6</td>\n",
       "      <td>5</td>\n",
       "      <td>11</td>\n",
       "      <td>2</td>\n",
       "      <td>7</td>\n",
       "      <td>0.666667</td>\n",
       "      <td>0</td>\n",
       "      <td>1</td>\n",
       "      <td>51.63</td>\n",
       "    </tr>\n",
       "    <tr>\n",
       "      <th>5952</th>\n",
       "      <td>Prostamide/prostaglandin F synthase</td>\n",
       "      <td>18</td>\n",
       "      <td>6</td>\n",
       "      <td>12</td>\n",
       "      <td>11</td>\n",
       "      <td>5</td>\n",
       "      <td>22</td>\n",
       "      <td>5</td>\n",
       "      <td>6</td>\n",
       "      <td>11</td>\n",
       "      <td>...</td>\n",
       "      <td>10</td>\n",
       "      <td>13</td>\n",
       "      <td>2</td>\n",
       "      <td>22</td>\n",
       "      <td>2</td>\n",
       "      <td>5</td>\n",
       "      <td>0.666667</td>\n",
       "      <td>0</td>\n",
       "      <td>1</td>\n",
       "      <td>54.11</td>\n",
       "    </tr>\n",
       "    <tr>\n",
       "      <th>5953</th>\n",
       "      <td>NEDD8-conjugating enzyme UBE2F</td>\n",
       "      <td>11</td>\n",
       "      <td>5</td>\n",
       "      <td>16</td>\n",
       "      <td>12</td>\n",
       "      <td>7</td>\n",
       "      <td>9</td>\n",
       "      <td>6</td>\n",
       "      <td>6</td>\n",
       "      <td>15</td>\n",
       "      <td>...</td>\n",
       "      <td>11</td>\n",
       "      <td>8</td>\n",
       "      <td>15</td>\n",
       "      <td>12</td>\n",
       "      <td>3</td>\n",
       "      <td>5</td>\n",
       "      <td>0.666667</td>\n",
       "      <td>0</td>\n",
       "      <td>1</td>\n",
       "      <td>53.66</td>\n",
       "    </tr>\n",
       "    <tr>\n",
       "      <th>5954</th>\n",
       "      <td>Rab-like protein 2A</td>\n",
       "      <td>16</td>\n",
       "      <td>3</td>\n",
       "      <td>19</td>\n",
       "      <td>18</td>\n",
       "      <td>14</td>\n",
       "      <td>7</td>\n",
       "      <td>5</td>\n",
       "      <td>12</td>\n",
       "      <td>16</td>\n",
       "      <td>...</td>\n",
       "      <td>7</td>\n",
       "      <td>19</td>\n",
       "      <td>13</td>\n",
       "      <td>15</td>\n",
       "      <td>2</td>\n",
       "      <td>9</td>\n",
       "      <td>0.666667</td>\n",
       "      <td>0</td>\n",
       "      <td>1</td>\n",
       "      <td>48.03</td>\n",
       "    </tr>\n",
       "    <tr>\n",
       "      <th>5955</th>\n",
       "      <td>PDZ and LIM domain protein 5 (Fragment)</td>\n",
       "      <td>9</td>\n",
       "      <td>3</td>\n",
       "      <td>3</td>\n",
       "      <td>2</td>\n",
       "      <td>0</td>\n",
       "      <td>8</td>\n",
       "      <td>3</td>\n",
       "      <td>4</td>\n",
       "      <td>8</td>\n",
       "      <td>...</td>\n",
       "      <td>3</td>\n",
       "      <td>5</td>\n",
       "      <td>6</td>\n",
       "      <td>6</td>\n",
       "      <td>0</td>\n",
       "      <td>1</td>\n",
       "      <td>0.666667</td>\n",
       "      <td>0</td>\n",
       "      <td>1</td>\n",
       "      <td>49.89</td>\n",
       "    </tr>\n",
       "  </tbody>\n",
       "</table>\n",
       "<p>5956 rows × 25 columns</p>\n",
       "</div>"
      ],
      "text/plain": [
       "                                        Nomes   A  C   D   E   F   G  H   I  \\\n",
       "0                                GTPase NRas   10  5  16  12   6  14  2  11   \n",
       "1       Rho-related GTP-binding protein RhoB   15  8  16  16   6   9  2   9   \n",
       "2                         Prefoldin subunit 1  11  0   6  16   2   2  3   9   \n",
       "3                            Ribonuclease H1   28  5  12  21  13  27  9  10   \n",
       "4                   Short coiled-coil protein  10  2   9  12   5   8  2   3   \n",
       "...                                       ...  .. ..  ..  ..  ..  .. ..  ..   \n",
       "5951     Gamma-glutamylaminecyclotransferase   14  2   7  12   6  12  7   2   \n",
       "5952     Prostamide/prostaglandin F synthase   18  6  12  11   5  22  5   6   \n",
       "5953          NEDD8-conjugating enzyme UBE2F   11  5  16  12   7   9  6   6   \n",
       "5954                      Rab-like protein 2A  16  3  19  18  14   7  5  12   \n",
       "5955  PDZ and LIM domain protein 5 (Fragment)   9  3   3   2   0   8  3   4   \n",
       "\n",
       "       K  ...   R   S   T   V  W  Y  Type1 Additive  Type2 Additive 1  \\\n",
       "0     12  ...  10  10  13  17  0  9        0.000000                 0   \n",
       "1     14  ...  12   8   9  22  2  7        0.000000                 0   \n",
       "2     15  ...   6   4   7   6  0  2        0.000000                 0   \n",
       "3     17  ...  24  17  12  18  8  6        0.000000                 0   \n",
       "4      9  ...  15  18   6  11  2  2        0.000000                 0   \n",
       "...   ..  ...  ..  ..  ..  .. .. ..             ...               ...   \n",
       "5951   1  ...  16   6   5  11  2  7        0.666667                 0   \n",
       "5952  11  ...  10  13   2  22  2  5        0.666667                 0   \n",
       "5953  15  ...  11   8  15  12  3  5        0.666667                 0   \n",
       "5954  16  ...   7  19  13  15  2  9        0.666667                 0   \n",
       "5955   8  ...   3   5   6   6  0  1        0.666667                 0   \n",
       "\n",
       "      Type2 Additive 2  Melting Point (C)  \n",
       "0                    0              62.18  \n",
       "1                    0              51.06  \n",
       "2                    0              56.02  \n",
       "3                    0              43.11  \n",
       "4                    0              53.87  \n",
       "...                ...                ...  \n",
       "5951                 1              51.63  \n",
       "5952                 1              54.11  \n",
       "5953                 1              53.66  \n",
       "5954                 1              48.03  \n",
       "5955                 1              49.89  \n",
       "\n",
       "[5956 rows x 25 columns]"
      ]
     },
     "execution_count": 4,
     "metadata": {},
     "output_type": "execute_result"
    }
   ],
   "source": [
    "dados = []\n",
    "\n",
    "for protein, id_, additive, melting_point in zip(df['PROTEIN'], df['UNIPROT_ID'], df['ADDITIVES'], df['Tm_(C)']):\n",
    "    semi_dados = [protein]\n",
    "    \n",
    "    for amino in proteins[id_]:\n",
    "        quantity_amino = proteins[id_][amino]\n",
    "        semi_dados.append(quantity_amino)\n",
    "    \n",
    "    additive_type1 = get_additive_input_type_1(additive)\n",
    "    additive_type2 = get_additive_input_type_2(additive)\n",
    "    \n",
    "    semi_dados.append(additive_type1)\n",
    "    semi_dados.append(additive_type2[0])\n",
    "    semi_dados.append(additive_type2[1])\n",
    "    semi_dados.append(melting_point)\n",
    "\n",
    "    dados.append(semi_dados)\n",
    "\n",
    "columns = ['Nomes']\n",
    "columns += [amino for amino in 'ACDEFGHIKLMNPQRSTVWY']\n",
    "columns += ['Type1 Additive', 'Type2 Additive 1', 'Type2 Additive 2', 'Melting Point (C)']\n",
    "\n",
    "df_dados = pd.DataFrame(dados, columns=columns)\n",
    "df_dados"
   ]
  },
  {
   "cell_type": "markdown",
   "id": "20d1211d-66ab-47d2-b188-deeed7ed3af3",
   "metadata": {},
   "source": [
    "# Separo Treino e Teste"
   ]
  },
  {
   "cell_type": "markdown",
   "id": "031e2ca5-1075-47a3-8d78-3bb52368ec4d",
   "metadata": {},
   "source": [
    "Podemos então finalmente separar os dados para treino e teste"
   ]
  },
  {
   "cell_type": "code",
   "execution_count": 5,
   "id": "0bb3780b-1443-4dc9-9e04-83e64cb27809",
   "metadata": {},
   "outputs": [],
   "source": [
    "TAMANHO_TESTE = 0.2\n",
    "\n",
    "SEMENTE_ALEATORIA = 42\n",
    "\n",
    "FEATURES1 = [amino for amino in 'ACDEFGHIKLMNPQRSTVWY']\n",
    "FEATURES1 += ['Type1 Additive']\n",
    "\n",
    "FEATURES2 = [amino for amino in 'ACDEFGHIKLMNPQRSTVWY']\n",
    "FEATURES2 += ['Type2 Additive 1', 'Type2 Additive 2']\n",
    "\n",
    "TARGET = [\"Melting Point (C)\"]"
   ]
  },
  {
   "cell_type": "markdown",
   "id": "7bd0e7be-1a30-4357-86d7-8c1cadec7b19",
   "metadata": {},
   "source": [
    "### Treino Real"
   ]
  },
  {
   "cell_type": "markdown",
   "id": "b4b71d32-404e-433e-9b51-847594641bb1",
   "metadata": {},
   "source": [
    "Parte dos dados (5%) é destinado para o teste final, que deverá ser feito apenas uma vez quando a escolha final de atributos da rede e seu treino estejam terminados"
   ]
  },
  {
   "cell_type": "code",
   "execution_count": 6,
   "id": "630ad0c2-0f7c-4594-9290-cf368a4e4f7b",
   "metadata": {},
   "outputs": [],
   "source": [
    "indices_treino_real, indices_teste_real = train_test_split(\n",
    "    df_dados.index, test_size=0.05, random_state=SEMENTE_ALEATORIA\n",
    ")\n",
    "\n",
    "df_treino_real = df_dados.loc[indices_treino_real]\n",
    "df_teste_real = df_dados.loc[indices_teste_real]\n",
    "\n",
    "x_teste_real1 = df_teste_real.reindex(FEATURES1, axis=1)\n",
    "x_teste_real2 = df_teste_real.reindex(FEATURES2, axis=1)\n",
    "y_teste_real = df_teste_real.reindex(TARGET, axis=1)"
   ]
  },
  {
   "cell_type": "markdown",
   "id": "c9248ef2-2545-42bf-9d20-a33945e2d914",
   "metadata": {},
   "source": [
    "### Treino Normal"
   ]
  },
  {
   "cell_type": "markdown",
   "id": "f3354133-2561-48ee-a6af-cad05161aa20",
   "metadata": {},
   "source": [
    "Dos dados restantes (95%), selecionamos 80% para serem utilizados como treino e os 20% (lembrando que ambas as porcentagens são com relação aos 95%) para teste."
   ]
  },
  {
   "cell_type": "code",
   "execution_count": 7,
   "id": "558df097-df9a-418e-8ee1-61069b87fc41",
   "metadata": {},
   "outputs": [],
   "source": [
    "indices_treino, indices_teste = train_test_split(\n",
    "    df_treino_real.index, test_size=TAMANHO_TESTE, random_state=SEMENTE_ALEATORIA\n",
    ")\n",
    "\n",
    "df_treino = df_treino_real.loc[indices_treino]\n",
    "df_teste = df_treino_real.loc[indices_teste]\n",
    "\n",
    "x_treino1 = df_treino.reindex(FEATURES1, axis=1)\n",
    "x_teste1 = df_teste.reindex(FEATURES1, axis=1)\n",
    "\n",
    "x_treino2 = df_treino.reindex(FEATURES2, axis=1)\n",
    "x_teste2 = df_teste.reindex(FEATURES2, axis=1)\n",
    "\n",
    "y_treino = df_treino.reindex(TARGET, axis=1)\n",
    "y_teste = df_teste.reindex(TARGET, axis=1)"
   ]
  },
  {
   "cell_type": "markdown",
   "id": "c21bc68c-4578-4218-b93a-80f4c29a285f",
   "metadata": {},
   "source": [
    "Após a separação dos dados, podemos normaliza-los utilizando algum método de preferência para que se mantenha um padrão para a rede, neste caso, foi selecionado o normalizador de `MinMaxScaler` que gera números de 0 a 1."
   ]
  },
  {
   "cell_type": "code",
   "execution_count": 8,
   "id": "24bc23ff-5d97-41e7-bfbf-ad93ed69ddaf",
   "metadata": {},
   "outputs": [],
   "source": [
    "normalizador_x1 = StandardScaler()\n",
    "normalizador_x2 = StandardScaler()\n",
    "normalizador_y = StandardScaler()\n",
    "\n",
    "normalizador_x1.fit(x_treino1)\n",
    "normalizador_x2.fit(x_treino2)\n",
    "normalizador_y.fit(y_treino)\n",
    "\n",
    "x_treino_norm1 = normalizador_x1.transform(x_treino1)\n",
    "x_teste_norm1 = normalizador_x1.transform(x_teste1)\n",
    "\n",
    "x_treino_norm2 = normalizador_x2.transform(x_treino2)\n",
    "x_teste_norm2 = normalizador_x2.transform(x_teste2)\n",
    "\n",
    "y_treino_norm = normalizador_y.transform(y_treino)\n",
    "y_teste_norm = normalizador_y.transform(y_teste)"
   ]
  },
  {
   "cell_type": "markdown",
   "id": "a158e9d5-9941-4836-8735-691eebdb42e6",
   "metadata": {},
   "source": [
    "Com os dados normalizados, podemos transformá-los em tensores do pytorch para utilizá-los na rede neural."
   ]
  },
  {
   "cell_type": "code",
   "execution_count": 9,
   "id": "8acb6c1e-1c6e-44be-bc34-78498226be1d",
   "metadata": {},
   "outputs": [],
   "source": [
    "x_treino_tens1 = torch.tensor(x_treino_norm1, dtype=torch.float32)\n",
    "x_teste_tens1 = torch.tensor(x_teste_norm1, dtype=torch.float32)\n",
    "\n",
    "x_treino_tens2 = torch.tensor(x_treino_norm2, dtype=torch.float32)\n",
    "x_teste_tens2 = torch.tensor(x_teste_norm2, dtype=torch.float32)\n",
    "\n",
    "y_treino_tens = torch.tensor(y_treino_norm, dtype=torch.float32)\n",
    "y_teste_tens = torch.tensor(y_teste_norm, dtype=torch.float32)"
   ]
  },
  {
   "cell_type": "markdown",
   "id": "a0e3111e-3012-40c7-ac71-8c0a2d1d8259",
   "metadata": {},
   "source": [
    "# Treinamento e teste (não final) das redes"
   ]
  },
  {
   "cell_type": "markdown",
   "id": "0fbdea0c-b936-4134-be79-9efeccf2e5db",
   "metadata": {},
   "source": [
    "A penúltima etapa do notebook é treinar as redes com os dados e fazer comparações para perceber quais poderiam ser os pontos fortes e fracos destas"
   ]
  },
  {
   "cell_type": "markdown",
   "id": "2af731a0-0c25-4c1e-b6f7-0803e45749c3",
   "metadata": {},
   "source": [
    "### Paramêtros das redes"
   ]
  },
  {
   "cell_type": "markdown",
   "id": "ce94fac9-bd4d-43ba-a026-0e326ef07005",
   "metadata": {},
   "source": [
    "Mas antes, precisamos definir os parâmetros padrões entre as redes para que seja feita uma comparação justa"
   ]
  },
  {
   "cell_type": "code",
   "execution_count": 10,
   "id": "8599b400-3d53-4aeb-a805-4688cb24f8a7",
   "metadata": {},
   "outputs": [],
   "source": [
    "c1, c2, c3 = 10, 10, 10\n",
    "lr, epochs = 0.01, 1000"
   ]
  },
  {
   "cell_type": "markdown",
   "id": "49c7455b-6cb2-4bfe-8781-89a8536359f4",
   "metadata": {},
   "source": [
    "### MLP Leaky ReLU 1"
   ]
  },
  {
   "cell_type": "markdown",
   "id": "6581240d-3aa2-49f5-815a-1aad461fa643",
   "metadata": {},
   "source": [
    "Aqui, treinamos uma rede que utiliza os dados de input de aditivos do tipo 1 e uma função de ativação ReLU"
   ]
  },
  {
   "cell_type": "code",
   "execution_count": 11,
   "id": "b8af301c-3c72-4643-be86-4d705d8ba397",
   "metadata": {},
   "outputs": [
    {
     "name": "stderr",
     "output_type": "stream",
     "text": [
      "Progresso: 100%|█████████████████████████████████████████████████████| 1000/1000 [00:04<00:00, 232.95it/s, Perda: 0.5477460623         / Neurons: (10, 10, 10) / LR: 0.01]"
     ]
    },
    {
     "name": "stdout",
     "output_type": "stream",
     "text": [
      "Loss do teste: 4.850281715393066\n"
     ]
    },
    {
     "name": "stderr",
     "output_type": "stream",
     "text": [
      "\n"
     ]
    }
   ],
   "source": [
    "mlp_leaky_1, rmse_leaky_1 = cria_mlp(torch.nn.LeakyReLU, x_treino_tens1, x_teste_tens1, y_treino_tens, y_teste_tens, normalizador_y, c1, c2, c3, lr, epochs)"
   ]
  },
  {
   "cell_type": "markdown",
   "id": "d93a58df-3c5a-4eee-87d6-3b01742d54fc",
   "metadata": {},
   "source": [
    "### MLP Sigmoid 1"
   ]
  },
  {
   "cell_type": "markdown",
   "id": "a59b71d7-21a8-4026-ac85-a41889d4adbf",
   "metadata": {},
   "source": [
    "Aqui, treinamos uma rede que utiliza os dados de input de aditivos do tipo 1 e uma função de ativação Sigmoid"
   ]
  },
  {
   "cell_type": "code",
   "execution_count": 12,
   "id": "314333e3-682d-406d-aacc-cf3dc87d9ec7",
   "metadata": {},
   "outputs": [
    {
     "name": "stderr",
     "output_type": "stream",
     "text": [
      "Progresso: 100%|█████████████████████████████████████████████████████| 1000/1000 [00:03<00:00, 273.57it/s, Perda: 0.5514582396         / Neurons: (10, 10, 10) / LR: 0.01]"
     ]
    },
    {
     "name": "stdout",
     "output_type": "stream",
     "text": [
      "Loss do teste: 4.858374118804932\n"
     ]
    },
    {
     "name": "stderr",
     "output_type": "stream",
     "text": [
      "\n"
     ]
    }
   ],
   "source": [
    "mlp_sigmoid_1, rmse_sigmoid_1 = cria_mlp(torch.nn.Sigmoid, x_treino_tens1, x_teste_tens1, y_treino_tens, y_teste_tens, normalizador_y, c1, c2, c3, lr, epochs)"
   ]
  },
  {
   "cell_type": "markdown",
   "id": "88de3151-f39d-452d-8d1d-eb1e17e31ab6",
   "metadata": {},
   "source": [
    "### MLP Swish 1"
   ]
  },
  {
   "cell_type": "markdown",
   "id": "f90888d1-8a08-4c34-8754-7e025a75f3b3",
   "metadata": {},
   "source": [
    "Aqui, treinamos uma rede que utiliza os dados de input de aditivos do tipo 1 e uma função de ativação Swish"
   ]
  },
  {
   "cell_type": "code",
   "execution_count": 13,
   "id": "f8a00aae-c83a-4b8c-b980-168c1d886448",
   "metadata": {},
   "outputs": [
    {
     "name": "stderr",
     "output_type": "stream",
     "text": [
      "Progresso: 100%|█████████████████████████████████████████████████████| 1000/1000 [00:04<00:00, 234.97it/s, Perda: 0.4149116576         / Neurons: (10, 10, 10) / LR: 0.01]"
     ]
    },
    {
     "name": "stdout",
     "output_type": "stream",
     "text": [
      "Loss do teste: 4.4523797035217285\n"
     ]
    },
    {
     "name": "stderr",
     "output_type": "stream",
     "text": [
      "\n"
     ]
    }
   ],
   "source": [
    "mlp_swish_1, rmse_swish_1 = cria_mlp(torch.nn.SiLU, x_treino_tens1, x_teste_tens1, y_treino_tens, y_teste_tens, normalizador_y, c1, c2, c3, lr, epochs)"
   ]
  },
  {
   "cell_type": "markdown",
   "id": "6f4eaa7e-c969-4904-94d6-758f0156a4c0",
   "metadata": {},
   "source": [
    "### MLP Leaky ReLU 2"
   ]
  },
  {
   "cell_type": "markdown",
   "id": "335c80a8-5553-4b40-9182-6257bd80ce88",
   "metadata": {},
   "source": [
    "Aqui, treinamos uma rede que utiliza os dados de input de aditivos do tipo 2 e uma função de ativação ReLU"
   ]
  },
  {
   "cell_type": "code",
   "execution_count": 14,
   "id": "eeb56358-fbe5-40af-afd7-f4eee0fbaac3",
   "metadata": {},
   "outputs": [
    {
     "name": "stderr",
     "output_type": "stream",
     "text": [
      "Progresso: 100%|█████████████████████████████████████████████████████| 1000/1000 [00:04<00:00, 232.85it/s, Perda: 0.4784905314         / Neurons: (10, 10, 10) / LR: 0.01]"
     ]
    },
    {
     "name": "stdout",
     "output_type": "stream",
     "text": [
      "Loss do teste: 4.6186394691467285\n"
     ]
    },
    {
     "name": "stderr",
     "output_type": "stream",
     "text": [
      "\n"
     ]
    }
   ],
   "source": [
    "mlp_leaky_2, rmse_leaky_2 = cria_mlp(torch.nn.LeakyReLU, x_treino_tens2, x_teste_tens2, y_treino_tens, y_teste_tens, normalizador_y, c1, c2, c3, lr, epochs)"
   ]
  },
  {
   "cell_type": "markdown",
   "id": "d4f0bb62-bda0-4f5a-9bad-ee1b9f4fb6e1",
   "metadata": {},
   "source": [
    "### MLP Sigmoid 2"
   ]
  },
  {
   "cell_type": "markdown",
   "id": "e50118c9-bc4c-40b4-a38e-ecc5483fcc93",
   "metadata": {},
   "source": [
    "Aqui, treinamos uma rede que utiliza os dados de input de aditivos do tipo 2 e uma função de ativação Sigmoid"
   ]
  },
  {
   "cell_type": "code",
   "execution_count": 15,
   "id": "ec01b328-e723-42ca-8f23-e1fbcc07485f",
   "metadata": {},
   "outputs": [
    {
     "name": "stderr",
     "output_type": "stream",
     "text": [
      "Progresso: 100%|█████████████████████████████████████████████████████| 1000/1000 [00:03<00:00, 262.72it/s, Perda: 0.5025104284         / Neurons: (10, 10, 10) / LR: 0.01]"
     ]
    },
    {
     "name": "stdout",
     "output_type": "stream",
     "text": [
      "Loss do teste: 4.702469348907471\n"
     ]
    },
    {
     "name": "stderr",
     "output_type": "stream",
     "text": [
      "\n"
     ]
    }
   ],
   "source": [
    "mlp_sigmoid_2, rmse_sigmoid_2 = cria_mlp(torch.nn.Sigmoid, x_treino_tens2, x_teste_tens2, y_treino_tens, y_teste_tens, normalizador_y, c1, c2, c3, lr, epochs)"
   ]
  },
  {
   "cell_type": "markdown",
   "id": "f13ece95-e25b-47dc-8ca8-0c628117a04a",
   "metadata": {},
   "source": [
    "### MLP Swish 2"
   ]
  },
  {
   "cell_type": "markdown",
   "id": "3629e443-0b69-4da4-9e08-d347b281a6d4",
   "metadata": {},
   "source": [
    "Aqui, treinamos uma rede que utiliza os dados de input de aditivos do tipo 2 e uma função de ativação Swish"
   ]
  },
  {
   "cell_type": "code",
   "execution_count": 16,
   "id": "650fbdc8-128f-4e05-a84c-0c99aa98d606",
   "metadata": {},
   "outputs": [
    {
     "name": "stderr",
     "output_type": "stream",
     "text": [
      "Progresso: 100%|█████████████████████████████████████████████████████| 1000/1000 [00:04<00:00, 229.45it/s, Perda: 0.4412312806         / Neurons: (10, 10, 10) / LR: 0.01]"
     ]
    },
    {
     "name": "stdout",
     "output_type": "stream",
     "text": [
      "Loss do teste: 4.572399616241455\n"
     ]
    },
    {
     "name": "stderr",
     "output_type": "stream",
     "text": [
      "\n"
     ]
    }
   ],
   "source": [
    "mlp_swish_2, rmse_swish_2 = cria_mlp(torch.nn.SiLU, x_treino_tens2, x_teste_tens2, y_treino_tens, y_teste_tens, normalizador_y, c1, c2, c3, lr, epochs)"
   ]
  },
  {
   "cell_type": "markdown",
   "id": "55c59aab-eab7-41d1-8a6c-cf568c4684ba",
   "metadata": {},
   "source": [
    "Como pudemos ver, a rede que teve melhor desempenho dentro das comparções possíveis foi a que utilizou a função de ativação Leaky ReLU, e por isso, foi considerada para ser utilizada no teste final do projeto."
   ]
  },
  {
   "cell_type": "markdown",
   "id": "5eae9c43-f9b1-4aa3-a7d0-00e9a5c3f980",
   "metadata": {},
   "source": [
    "## Criando os tensores dos dados de teste finais"
   ]
  },
  {
   "cell_type": "markdown",
   "id": "cda1de5a-2a9d-4df5-af9f-9e14c1cf835f",
   "metadata": {},
   "source": [
    "Para salvar os dados de teste final, precisamos normalizá-los e transformá-los em tensores"
   ]
  },
  {
   "cell_type": "code",
   "execution_count": 17,
   "id": "9e8ba803-b50b-46bd-a5c9-2280c136cb1b",
   "metadata": {},
   "outputs": [],
   "source": [
    "x_teste_real_norm1 = normalizador_x1.transform(x_teste_real1)\n",
    "x_teste_real_norm2 = normalizador_x2.transform(x_teste_real2)\n",
    "\n",
    "y_teste_real_norm = normalizador_y.transform(y_teste_real)"
   ]
  },
  {
   "cell_type": "code",
   "execution_count": 18,
   "id": "8ea15585-0494-42c8-a227-5af175c4fcf4",
   "metadata": {},
   "outputs": [],
   "source": [
    "x_teste_real_tens1 = torch.tensor(x_teste_real_norm1, dtype=torch.float32)\n",
    "x_teste_real_tens2 = torch.tensor(x_teste_real_norm2, dtype=torch.float32)\n",
    "\n",
    "y_teste_real_tens = torch.tensor(y_teste_real_norm, dtype=torch.float32)"
   ]
  },
  {
   "cell_type": "markdown",
   "id": "b39c315e-9baa-4b92-ae01-f41a0edb1e02",
   "metadata": {},
   "source": [
    "# Salvando a melhor rede para teste final"
   ]
  },
  {
   "cell_type": "markdown",
   "id": "0fcefeef-b103-423f-8931-765fe653ee4a",
   "metadata": {},
   "source": [
    "A última etapa do notebook é salvar os dados de teste reais para serem utilizados em outro notebook em conjunto com o salvamento da rede neural selecionada para este teste"
   ]
  },
  {
   "cell_type": "code",
   "execution_count": 19,
   "id": "88326c9e-8e9f-48ad-bceb-b3fdece04b10",
   "metadata": {},
   "outputs": [],
   "source": [
    "save = {\n",
    "    'fn_ativacao': torch.nn.LeakyReLU,\n",
    "    'x_teste1': x_teste_real_tens1,\n",
    "    'x_teste2': x_teste_real_tens2,\n",
    "    'y_teste': y_teste_real_tens,\n",
    "    'x_norm1': normalizador_x1,\n",
    "    'x_norm2': normalizador_x2,\n",
    "    'y_norm': normalizador_y,\n",
    "    'c1_mlp': c1,\n",
    "    'c2_mlp': c2,\n",
    "    'c3_mlp': c3\n",
    "}"
   ]
  },
  {
   "cell_type": "code",
   "execution_count": 20,
   "id": "a7b9cdf8-c9f5-4557-9d52-dd782ab2e29d",
   "metadata": {},
   "outputs": [],
   "source": [
    "file_data = 'Dados/test_data.pickle'\n",
    "\n",
    "with open(file_data, 'wb') as file_handler:\n",
    "    pickle.dump(save, file_handler, protocol=pickle.HIGHEST_PROTOCOL)\n",
    "\n",
    "file_mlp = 'Dados/mlp_save.pt'\n",
    "\n",
    "torch.save(mlp_leaky_1.state_dict(), file_mlp)"
   ]
  },
  {
   "cell_type": "code",
   "execution_count": null,
   "id": "1e052650-42ee-4481-b1c2-9a88713f2269",
   "metadata": {},
   "outputs": [],
   "source": []
  }
 ],
 "metadata": {
  "kernelspec": {
   "display_name": "ilumpy",
   "language": "python",
   "name": "ilumpy"
  },
  "language_info": {
   "codemirror_mode": {
    "name": "ipython",
    "version": 3
   },
   "file_extension": ".py",
   "mimetype": "text/x-python",
   "name": "python",
   "nbconvert_exporter": "python",
   "pygments_lexer": "ipython3",
   "version": "3.9.7"
  }
 },
 "nbformat": 4,
 "nbformat_minor": 5
}
