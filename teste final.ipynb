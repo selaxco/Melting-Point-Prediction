{
 "cells": [
  {
   "cell_type": "markdown",
   "id": "b94f75e5-cbcf-4bb8-9dbb-0b429ab524a2",
   "metadata": {},
   "source": [
    "# Introdução"
   ]
  },
  {
   "cell_type": "markdown",
   "id": "bcc06a43-1913-4112-9440-17b080fea16b",
   "metadata": {},
   "source": [
    "Este notebook é utilizado para o teste final da rede neural selecionada e treinada. Com isto, será possível classificar o sucesso ou fracasso desta rede em determinar de maneira eficaz a temperatura de melting de proteínas a partir apenas da quantidade de aminoácidos da proteína e os aditivos presentes em solução com a proteína."
   ]
  },
  {
   "cell_type": "markdown",
   "id": "4e98641c-b55a-4e58-b954-4f9d30afc3b7",
   "metadata": {},
   "source": [
    "## Importação"
   ]
  },
  {
   "cell_type": "markdown",
   "id": "42f2fd3b-23e7-4d5b-9156-73388685faae",
   "metadata": {},
   "source": [
    "Antes de começar o código, precisamos importar as funções, bibliotecas e módulos necessários para esta análise"
   ]
  },
  {
   "cell_type": "code",
   "execution_count": 1,
   "id": "5d9a1daa-26fd-4a0a-b085-6f3b48053bf7",
   "metadata": {},
   "outputs": [],
   "source": [
    "# Função para pegar os aminoácidos de uma proteína e classe base para criação das MLPs\n",
    "from funcoes import get_amino, MLP\n",
    "\n",
    "# Módulo para carregar os dados do arquivo de salvamento\n",
    "import pickle\n",
    "\n",
    "# Módulo do pytorch para carregar e utilizar a rede\n",
    "import torch\n",
    "\n",
    "# Metrica de erro quadrático médio\n",
    "from sklearn.metrics import mean_squared_error"
   ]
  },
  {
   "cell_type": "markdown",
   "id": "d4a38702-dc89-4d6c-affb-470e0e5d3b62",
   "metadata": {},
   "source": [
    "## Carregando os dados"
   ]
  },
  {
   "cell_type": "markdown",
   "id": "272a5bb3-323d-496e-ad2f-66d406456267",
   "metadata": {},
   "source": [
    "A primeira etapa é carregar os dados já salvos de teste a serem utilizados, além do normalizador utilizado para tratamento dos dados. Como selecionamos a melhor rede como sendo a que considera dados de input de aditivos do tipo 1 (mais informações: https://github.com/selaxco/Melting-Point-Prediction), podemos pegar apenas os dados referentes a estes inputs"
   ]
  },
  {
   "cell_type": "code",
   "execution_count": 2,
   "id": "14e81528-b1a2-486b-8d4a-c9975e06db96",
   "metadata": {},
   "outputs": [],
   "source": [
    "file_data = 'Dados/test_data.pickle'\n",
    "\n",
    "with open(file_data, 'rb') as file_handler:\n",
    "    save = pickle.load(file_handler)\n",
    "    \n",
    "fn_ativacao = save['fn_ativacao']    \n",
    "\n",
    "x_teste = save['x_teste1']\n",
    "y_teste = save['y_teste']\n",
    "\n",
    "x_norm = save['x_norm1']\n",
    "y_norm = save['y_norm']\n",
    "\n",
    "n_entrada = x_teste.shape[1]\n",
    "c1 = save['c1_mlp']\n",
    "c2 = save['c2_mlp']\n",
    "c3 = save['c3_mlp']\n",
    "n_saida = y_teste.shape[1]"
   ]
  },
  {
   "cell_type": "markdown",
   "id": "5312d4c3-40fb-4dfe-af12-d94c25508a68",
   "metadata": {},
   "source": [
    "## Carregando a rede"
   ]
  },
  {
   "cell_type": "markdown",
   "id": "f4b1010c-00fa-4526-8f49-d6550df52f2d",
   "metadata": {},
   "source": [
    "Após carregar os dados, precisamos carregar a rede em si, para isso, podemos utilizar o próprio pytroch, mas antes, devemos definir os dados utilizados anteriormente para a rede, que podemos obter dos dados carregados anteriormente"
   ]
  },
  {
   "cell_type": "code",
   "execution_count": 3,
   "id": "671806aa-29d9-47b2-88d0-65683c977bf7",
   "metadata": {},
   "outputs": [
    {
     "data": {
      "text/plain": [
       "MLP(\n",
       "  (camadas): Sequential(\n",
       "    (0): Linear(in_features=21, out_features=30, bias=True)\n",
       "    (1): LeakyReLU(negative_slope=0.01)\n",
       "    (2): Linear(in_features=30, out_features=30, bias=True)\n",
       "    (3): LeakyReLU(negative_slope=0.01)\n",
       "    (4): Linear(in_features=30, out_features=30, bias=True)\n",
       "    (5): LeakyReLU(negative_slope=0.01)\n",
       "    (6): Linear(in_features=30, out_features=1, bias=True)\n",
       "  )\n",
       ")"
      ]
     },
     "execution_count": 3,
     "metadata": {},
     "output_type": "execute_result"
    }
   ],
   "source": [
    "file_mlp = 'Dados/mlp_save.pt'\n",
    "\n",
    "mlp = MLP(fn_ativacao, n_entrada, c1, c2, c3, n_saida)\n",
    "mlp.load_state_dict(torch.load(file_mlp))\n",
    "mlp.eval()"
   ]
  },
  {
   "cell_type": "markdown",
   "id": "310a2231-4359-4fd2-a35a-31cf625e93e4",
   "metadata": {},
   "source": [
    "## Iniciando os teste finais"
   ]
  },
  {
   "cell_type": "markdown",
   "id": "22cd8fde-c3d9-45a1-94fb-146736acc846",
   "metadata": {},
   "source": [
    "Agora podemos começar com o primeiro teste real, testar proteínas separadas especialmente para isto, ou seja, o conjunto de 5% dos dados que foram separados apenas para este teste"
   ]
  },
  {
   "cell_type": "code",
   "execution_count": 4,
   "id": "548f27dc-4f45-44ad-a9b0-d10703f756a4",
   "metadata": {},
   "outputs": [
    {
     "name": "stdout",
     "output_type": "stream",
     "text": [
      "Loss do teste: 3.992077350616455\n"
     ]
    }
   ],
   "source": [
    "with torch.no_grad():\n",
    "    y_true = y_norm.inverse_transform(y_teste)\n",
    "    y_pred = mlp(x_teste)\n",
    "    y_pred = y_norm.inverse_transform(y_pred)\n",
    "\n",
    "RMSE = mean_squared_error(y_true, y_pred, squared=False)\n",
    "print(f'Loss do teste: {RMSE}')"
   ]
  },
  {
   "cell_type": "markdown",
   "id": "8cb58454-d2eb-4bf3-9435-fc84f2919cc7",
   "metadata": {},
   "source": [
    "Podemos observar que o erro médio do teste real foi maior que o teste do treinamento, porém, esta é uma diferença relativamente pequena, e o erro permaneceu abaixo da faixa de 4°C"
   ]
  },
  {
   "cell_type": "markdown",
   "id": "1a97710e-27b3-472e-aeb8-73f74697d5c4",
   "metadata": {},
   "source": [
    "## Últimos testes"
   ]
  },
  {
   "cell_type": "markdown",
   "id": "62e30fa3-69c3-4162-ab45-368975d6104b",
   "metadata": {},
   "source": [
    "Os últimos teste a serem conduzidos são utilizando proteínas que não estavam nem mesmo no conjunto de dados utilizado, e para isso, foiram selecionadas duas proteínas, Quinase dependente de Ciclina de Homo Sapiens e a Beta-Catenina de Zebra fish. A primeira se encaixa dentro do limite de 300 aminoácidos e temperatura de melting de 45° em que a rede foi treinada, já a segunda, é um desafio que queremos ver o resultado, se trata de uma proteína com 780 aminoácidos com melting de 52°, quase o triplo do tamanho que a rede está acostumada, mas veremos como ela se sairá. Para o teste, foi feita uma função simples que utiliza os dados de teste e a rede para estimar uma previsão."
   ]
  },
  {
   "cell_type": "code",
   "execution_count": 5,
   "id": "a19b4a9c-2dbd-49fd-a550-bc3aababbe6a",
   "metadata": {},
   "outputs": [],
   "source": [
    "def teste_rede(uniprot_id, mlp, additive, normalizador_x, normalizador_y, mlp_type=1):\n",
    "    '''Retorna a previsão da temperatura de melting da rede com base em uma proteína passada.\n",
    "    \n",
    "    Args:\n",
    "        uniprot_id: string, id da proteína no UniProt;\n",
    "        \n",
    "        mlp: torch.Model, rede a ser utilizada para a previsão;\n",
    "        \n",
    "        additive: float / list, o input de aditivo a ser utilizado (dependo do tipo da rede);\n",
    "        \n",
    "        normalizador_x: normalizador utilizado nos dados de features;\n",
    "    \n",
    "        normalizador_y: normalizador utilizado nos dados de targets;\n",
    "        \n",
    "        mlp_type (default: 1): int, tipo da rede (aditivos).\n",
    "    '''\n",
    "    sequence = get_amino(uniprot_id)\n",
    "    dados = []\n",
    "    \n",
    "    for amino in 'ACDEFGHIKLMNPQRSTVWY':\n",
    "        dados += [sequence[amino]]\n",
    "    if mlp_type == 1:\n",
    "        dados += [additive]\n",
    "    else:\n",
    "        dados += [additive[0], additive[1]]\n",
    "    \n",
    "    dados_norm = normalizador_x.transform([dados])\n",
    "    dados_tens = torch.tensor(dados_norm, dtype=torch.float32)\n",
    "    \n",
    "    mlp.eval()\n",
    "    \n",
    "    with torch.no_grad():\n",
    "        y_pred = mlp(dados_tens)\n",
    "        y_pred = normalizador_y.inverse_transform(y_pred)\n",
    "\n",
    "    print(y_pred[0][0])"
   ]
  },
  {
   "cell_type": "markdown",
   "id": "7b078d4c-cd36-4129-bfbd-1ec31640e133",
   "metadata": {},
   "source": [
    "## Quinase dependente de Ciclina (Homo Sapiens - 45°C)"
   ]
  },
  {
   "cell_type": "code",
   "execution_count": 6,
   "id": "bd205767-0437-445a-b267-9913d064890a",
   "metadata": {},
   "outputs": [
    {
     "name": "stdout",
     "output_type": "stream",
     "text": [
      "51.493202\n"
     ]
    }
   ],
   "source": [
    "teste_rede('P24941', mlp, 0, x_norm, y_norm)"
   ]
  },
  {
   "cell_type": "markdown",
   "id": "1b050b41-423e-48bb-9a66-0c7a7f2c7647",
   "metadata": {},
   "source": [
    "Podemos observar que o erro da rede com um dado de uma proteína não antes vista resultou em um erro de aproximadamente 7°C"
   ]
  },
  {
   "cell_type": "markdown",
   "id": "0cab4a76-d14d-4086-8fb4-02017d6dbb24",
   "metadata": {},
   "source": [
    "## Beta-Catenina (Zebra Fish - 52°C)"
   ]
  },
  {
   "cell_type": "code",
   "execution_count": 7,
   "id": "779da395-0f1e-4ca8-985a-a8a93ac87ee2",
   "metadata": {},
   "outputs": [
    {
     "name": "stdout",
     "output_type": "stream",
     "text": [
      "58.17991\n"
     ]
    }
   ],
   "source": [
    "teste_rede('F1QGH7', mlp, 0, x_norm, y_norm)"
   ]
  },
  {
   "cell_type": "markdown",
   "id": "ab950ac5-16ad-453c-86bc-1d0b1ced57a4",
   "metadata": {},
   "source": [
    "Podemos observar que o erro da rede com um dado de uma proteína não antes vista, com tamanho maior que as de treino e de outra espécie resultou em um erro de aproximadamente 6°C"
   ]
  },
  {
   "cell_type": "code",
   "execution_count": null,
   "id": "a4241ab5-2a27-4cbc-876f-a520b9dacb9e",
   "metadata": {},
   "outputs": [],
   "source": []
  }
 ],
 "metadata": {
  "kernelspec": {
   "display_name": "ilumpy",
   "language": "python",
   "name": "ilumpy"
  },
  "language_info": {
   "codemirror_mode": {
    "name": "ipython",
    "version": 3
   },
   "file_extension": ".py",
   "mimetype": "text/x-python",
   "name": "python",
   "nbconvert_exporter": "python",
   "pygments_lexer": "ipython3",
   "version": "3.9.7"
  }
 },
 "nbformat": 4,
 "nbformat_minor": 5
}
